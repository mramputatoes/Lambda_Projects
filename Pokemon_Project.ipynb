{
  "nbformat": 4,
  "nbformat_minor": 0,
  "metadata": {
    "colab": {
      "name": "Pokemon_Project.ipynb",
      "provenance": [],
      "collapsed_sections": []
    },
    "kernelspec": {
      "name": "python3",
      "display_name": "Python 3"
    },
    "language_info": {
      "name": "python"
    }
  },
  "cells": [
    {
      "cell_type": "code",
      "metadata": {
        "colab": {
          "base_uri": "https://localhost:8080/",
          "height": 343
        },
        "id": "HFfKd8BcpNL_",
        "outputId": "b609f9a9-5bbd-405a-993a-c71e8927468a"
      },
      "source": [
        "import pandas as pd\n",
        "import numpy as np\n",
        "\n",
        "data = 'https://raw.githubusercontent.com/mramputatoes/project_1/main/pokemon.csv'\n",
        "df = pd.read_csv(data)\n",
        "\n",
        "df.head()\n"
      ],
      "execution_count": null,
      "outputs": [
        {
          "output_type": "execute_result",
          "data": {
            "text/html": [
              "<div>\n",
              "<style scoped>\n",
              "    .dataframe tbody tr th:only-of-type {\n",
              "        vertical-align: middle;\n",
              "    }\n",
              "\n",
              "    .dataframe tbody tr th {\n",
              "        vertical-align: top;\n",
              "    }\n",
              "\n",
              "    .dataframe thead th {\n",
              "        text-align: right;\n",
              "    }\n",
              "</style>\n",
              "<table border=\"1\" class=\"dataframe\">\n",
              "  <thead>\n",
              "    <tr style=\"text-align: right;\">\n",
              "      <th></th>\n",
              "      <th>abilities</th>\n",
              "      <th>against_bug</th>\n",
              "      <th>against_dark</th>\n",
              "      <th>against_dragon</th>\n",
              "      <th>against_electric</th>\n",
              "      <th>against_fairy</th>\n",
              "      <th>against_fight</th>\n",
              "      <th>against_fire</th>\n",
              "      <th>against_flying</th>\n",
              "      <th>against_ghost</th>\n",
              "      <th>against_grass</th>\n",
              "      <th>against_ground</th>\n",
              "      <th>against_ice</th>\n",
              "      <th>against_normal</th>\n",
              "      <th>against_poison</th>\n",
              "      <th>against_psychic</th>\n",
              "      <th>against_rock</th>\n",
              "      <th>against_steel</th>\n",
              "      <th>against_water</th>\n",
              "      <th>attack</th>\n",
              "      <th>base_egg_steps</th>\n",
              "      <th>base_happiness</th>\n",
              "      <th>base_total</th>\n",
              "      <th>capture_rate</th>\n",
              "      <th>classfication</th>\n",
              "      <th>defense</th>\n",
              "      <th>experience_growth</th>\n",
              "      <th>height_m</th>\n",
              "      <th>hp</th>\n",
              "      <th>japanese_name</th>\n",
              "      <th>name</th>\n",
              "      <th>percentage_male</th>\n",
              "      <th>pokedex_number</th>\n",
              "      <th>sp_attack</th>\n",
              "      <th>sp_defense</th>\n",
              "      <th>speed</th>\n",
              "      <th>type1</th>\n",
              "      <th>type2</th>\n",
              "      <th>weight_kg</th>\n",
              "      <th>generation</th>\n",
              "      <th>is_legendary</th>\n",
              "    </tr>\n",
              "  </thead>\n",
              "  <tbody>\n",
              "    <tr>\n",
              "      <th>0</th>\n",
              "      <td>['Overgrow', 'Chlorophyll']</td>\n",
              "      <td>1.0</td>\n",
              "      <td>1.0</td>\n",
              "      <td>1.0</td>\n",
              "      <td>0.5</td>\n",
              "      <td>0.5</td>\n",
              "      <td>0.5</td>\n",
              "      <td>2.0</td>\n",
              "      <td>2.0</td>\n",
              "      <td>1.0</td>\n",
              "      <td>0.25</td>\n",
              "      <td>1.0</td>\n",
              "      <td>2.0</td>\n",
              "      <td>1.0</td>\n",
              "      <td>1.0</td>\n",
              "      <td>2.0</td>\n",
              "      <td>1.0</td>\n",
              "      <td>1.0</td>\n",
              "      <td>0.5</td>\n",
              "      <td>49</td>\n",
              "      <td>5120</td>\n",
              "      <td>70</td>\n",
              "      <td>318</td>\n",
              "      <td>45</td>\n",
              "      <td>Seed Pokémon</td>\n",
              "      <td>49</td>\n",
              "      <td>1059860</td>\n",
              "      <td>0.7</td>\n",
              "      <td>45</td>\n",
              "      <td>Fushigidaneフシギダネ</td>\n",
              "      <td>Bulbasaur</td>\n",
              "      <td>88.1</td>\n",
              "      <td>1</td>\n",
              "      <td>65</td>\n",
              "      <td>65</td>\n",
              "      <td>45</td>\n",
              "      <td>grass</td>\n",
              "      <td>poison</td>\n",
              "      <td>6.9</td>\n",
              "      <td>1</td>\n",
              "      <td>0</td>\n",
              "    </tr>\n",
              "    <tr>\n",
              "      <th>1</th>\n",
              "      <td>['Overgrow', 'Chlorophyll']</td>\n",
              "      <td>1.0</td>\n",
              "      <td>1.0</td>\n",
              "      <td>1.0</td>\n",
              "      <td>0.5</td>\n",
              "      <td>0.5</td>\n",
              "      <td>0.5</td>\n",
              "      <td>2.0</td>\n",
              "      <td>2.0</td>\n",
              "      <td>1.0</td>\n",
              "      <td>0.25</td>\n",
              "      <td>1.0</td>\n",
              "      <td>2.0</td>\n",
              "      <td>1.0</td>\n",
              "      <td>1.0</td>\n",
              "      <td>2.0</td>\n",
              "      <td>1.0</td>\n",
              "      <td>1.0</td>\n",
              "      <td>0.5</td>\n",
              "      <td>62</td>\n",
              "      <td>5120</td>\n",
              "      <td>70</td>\n",
              "      <td>405</td>\n",
              "      <td>45</td>\n",
              "      <td>Seed Pokémon</td>\n",
              "      <td>63</td>\n",
              "      <td>1059860</td>\n",
              "      <td>1.0</td>\n",
              "      <td>60</td>\n",
              "      <td>Fushigisouフシギソウ</td>\n",
              "      <td>Ivysaur</td>\n",
              "      <td>88.1</td>\n",
              "      <td>2</td>\n",
              "      <td>80</td>\n",
              "      <td>80</td>\n",
              "      <td>60</td>\n",
              "      <td>grass</td>\n",
              "      <td>poison</td>\n",
              "      <td>13.0</td>\n",
              "      <td>1</td>\n",
              "      <td>0</td>\n",
              "    </tr>\n",
              "    <tr>\n",
              "      <th>2</th>\n",
              "      <td>['Overgrow', 'Chlorophyll']</td>\n",
              "      <td>1.0</td>\n",
              "      <td>1.0</td>\n",
              "      <td>1.0</td>\n",
              "      <td>0.5</td>\n",
              "      <td>0.5</td>\n",
              "      <td>0.5</td>\n",
              "      <td>2.0</td>\n",
              "      <td>2.0</td>\n",
              "      <td>1.0</td>\n",
              "      <td>0.25</td>\n",
              "      <td>1.0</td>\n",
              "      <td>2.0</td>\n",
              "      <td>1.0</td>\n",
              "      <td>1.0</td>\n",
              "      <td>2.0</td>\n",
              "      <td>1.0</td>\n",
              "      <td>1.0</td>\n",
              "      <td>0.5</td>\n",
              "      <td>100</td>\n",
              "      <td>5120</td>\n",
              "      <td>70</td>\n",
              "      <td>625</td>\n",
              "      <td>45</td>\n",
              "      <td>Seed Pokémon</td>\n",
              "      <td>123</td>\n",
              "      <td>1059860</td>\n",
              "      <td>2.0</td>\n",
              "      <td>80</td>\n",
              "      <td>Fushigibanaフシギバナ</td>\n",
              "      <td>Venusaur</td>\n",
              "      <td>88.1</td>\n",
              "      <td>3</td>\n",
              "      <td>122</td>\n",
              "      <td>120</td>\n",
              "      <td>80</td>\n",
              "      <td>grass</td>\n",
              "      <td>poison</td>\n",
              "      <td>100.0</td>\n",
              "      <td>1</td>\n",
              "      <td>0</td>\n",
              "    </tr>\n",
              "    <tr>\n",
              "      <th>3</th>\n",
              "      <td>['Blaze', 'Solar Power']</td>\n",
              "      <td>0.5</td>\n",
              "      <td>1.0</td>\n",
              "      <td>1.0</td>\n",
              "      <td>1.0</td>\n",
              "      <td>0.5</td>\n",
              "      <td>1.0</td>\n",
              "      <td>0.5</td>\n",
              "      <td>1.0</td>\n",
              "      <td>1.0</td>\n",
              "      <td>0.50</td>\n",
              "      <td>2.0</td>\n",
              "      <td>0.5</td>\n",
              "      <td>1.0</td>\n",
              "      <td>1.0</td>\n",
              "      <td>1.0</td>\n",
              "      <td>2.0</td>\n",
              "      <td>0.5</td>\n",
              "      <td>2.0</td>\n",
              "      <td>52</td>\n",
              "      <td>5120</td>\n",
              "      <td>70</td>\n",
              "      <td>309</td>\n",
              "      <td>45</td>\n",
              "      <td>Lizard Pokémon</td>\n",
              "      <td>43</td>\n",
              "      <td>1059860</td>\n",
              "      <td>0.6</td>\n",
              "      <td>39</td>\n",
              "      <td>Hitokageヒトカゲ</td>\n",
              "      <td>Charmander</td>\n",
              "      <td>88.1</td>\n",
              "      <td>4</td>\n",
              "      <td>60</td>\n",
              "      <td>50</td>\n",
              "      <td>65</td>\n",
              "      <td>fire</td>\n",
              "      <td>NaN</td>\n",
              "      <td>8.5</td>\n",
              "      <td>1</td>\n",
              "      <td>0</td>\n",
              "    </tr>\n",
              "    <tr>\n",
              "      <th>4</th>\n",
              "      <td>['Blaze', 'Solar Power']</td>\n",
              "      <td>0.5</td>\n",
              "      <td>1.0</td>\n",
              "      <td>1.0</td>\n",
              "      <td>1.0</td>\n",
              "      <td>0.5</td>\n",
              "      <td>1.0</td>\n",
              "      <td>0.5</td>\n",
              "      <td>1.0</td>\n",
              "      <td>1.0</td>\n",
              "      <td>0.50</td>\n",
              "      <td>2.0</td>\n",
              "      <td>0.5</td>\n",
              "      <td>1.0</td>\n",
              "      <td>1.0</td>\n",
              "      <td>1.0</td>\n",
              "      <td>2.0</td>\n",
              "      <td>0.5</td>\n",
              "      <td>2.0</td>\n",
              "      <td>64</td>\n",
              "      <td>5120</td>\n",
              "      <td>70</td>\n",
              "      <td>405</td>\n",
              "      <td>45</td>\n",
              "      <td>Flame Pokémon</td>\n",
              "      <td>58</td>\n",
              "      <td>1059860</td>\n",
              "      <td>1.1</td>\n",
              "      <td>58</td>\n",
              "      <td>Lizardoリザード</td>\n",
              "      <td>Charmeleon</td>\n",
              "      <td>88.1</td>\n",
              "      <td>5</td>\n",
              "      <td>80</td>\n",
              "      <td>65</td>\n",
              "      <td>80</td>\n",
              "      <td>fire</td>\n",
              "      <td>NaN</td>\n",
              "      <td>19.0</td>\n",
              "      <td>1</td>\n",
              "      <td>0</td>\n",
              "    </tr>\n",
              "  </tbody>\n",
              "</table>\n",
              "</div>"
            ],
            "text/plain": [
              "                     abilities  against_bug  ...  generation  is_legendary\n",
              "0  ['Overgrow', 'Chlorophyll']          1.0  ...           1             0\n",
              "1  ['Overgrow', 'Chlorophyll']          1.0  ...           1             0\n",
              "2  ['Overgrow', 'Chlorophyll']          1.0  ...           1             0\n",
              "3     ['Blaze', 'Solar Power']          0.5  ...           1             0\n",
              "4     ['Blaze', 'Solar Power']          0.5  ...           1             0\n",
              "\n",
              "[5 rows x 41 columns]"
            ]
          },
          "metadata": {
            "tags": []
          },
          "execution_count": 1
        }
      ]
    },
    {
      "cell_type": "code",
      "metadata": {
        "colab": {
          "base_uri": "https://localhost:8080/",
          "height": 309
        },
        "id": "ooXeVTlM4L9c",
        "outputId": "1209b753-78a3-48a8-fca3-fdb2766f772e"
      },
      "source": [
        "df.tail()"
      ],
      "execution_count": null,
      "outputs": [
        {
          "output_type": "execute_result",
          "data": {
            "text/html": [
              "<div>\n",
              "<style scoped>\n",
              "    .dataframe tbody tr th:only-of-type {\n",
              "        vertical-align: middle;\n",
              "    }\n",
              "\n",
              "    .dataframe tbody tr th {\n",
              "        vertical-align: top;\n",
              "    }\n",
              "\n",
              "    .dataframe thead th {\n",
              "        text-align: right;\n",
              "    }\n",
              "</style>\n",
              "<table border=\"1\" class=\"dataframe\">\n",
              "  <thead>\n",
              "    <tr style=\"text-align: right;\">\n",
              "      <th></th>\n",
              "      <th>abilities</th>\n",
              "      <th>against_bug</th>\n",
              "      <th>against_dark</th>\n",
              "      <th>against_dragon</th>\n",
              "      <th>against_electric</th>\n",
              "      <th>against_fairy</th>\n",
              "      <th>against_fight</th>\n",
              "      <th>against_fire</th>\n",
              "      <th>against_flying</th>\n",
              "      <th>against_ghost</th>\n",
              "      <th>against_grass</th>\n",
              "      <th>against_ground</th>\n",
              "      <th>against_ice</th>\n",
              "      <th>against_normal</th>\n",
              "      <th>against_poison</th>\n",
              "      <th>against_psychic</th>\n",
              "      <th>against_rock</th>\n",
              "      <th>against_steel</th>\n",
              "      <th>against_water</th>\n",
              "      <th>attack</th>\n",
              "      <th>base_egg_steps</th>\n",
              "      <th>base_happiness</th>\n",
              "      <th>base_total</th>\n",
              "      <th>capture_rate</th>\n",
              "      <th>classfication</th>\n",
              "      <th>defense</th>\n",
              "      <th>experience_growth</th>\n",
              "      <th>height_m</th>\n",
              "      <th>hp</th>\n",
              "      <th>japanese_name</th>\n",
              "      <th>name</th>\n",
              "      <th>percentage_male</th>\n",
              "      <th>pokedex_number</th>\n",
              "      <th>sp_attack</th>\n",
              "      <th>sp_defense</th>\n",
              "      <th>speed</th>\n",
              "      <th>type1</th>\n",
              "      <th>type2</th>\n",
              "      <th>weight_kg</th>\n",
              "      <th>generation</th>\n",
              "      <th>is_legendary</th>\n",
              "    </tr>\n",
              "  </thead>\n",
              "  <tbody>\n",
              "    <tr>\n",
              "      <th>796</th>\n",
              "      <td>['Beast Boost']</td>\n",
              "      <td>0.25</td>\n",
              "      <td>1.0</td>\n",
              "      <td>0.5</td>\n",
              "      <td>2.0</td>\n",
              "      <td>0.5</td>\n",
              "      <td>1.0</td>\n",
              "      <td>2.0</td>\n",
              "      <td>0.5</td>\n",
              "      <td>1.0</td>\n",
              "      <td>0.25</td>\n",
              "      <td>0.0</td>\n",
              "      <td>1.0</td>\n",
              "      <td>0.5</td>\n",
              "      <td>0.0</td>\n",
              "      <td>0.5</td>\n",
              "      <td>1.0</td>\n",
              "      <td>0.5</td>\n",
              "      <td>1.0</td>\n",
              "      <td>101</td>\n",
              "      <td>30720</td>\n",
              "      <td>0</td>\n",
              "      <td>570</td>\n",
              "      <td>25</td>\n",
              "      <td>Launch Pokémon</td>\n",
              "      <td>103</td>\n",
              "      <td>1250000</td>\n",
              "      <td>9.2</td>\n",
              "      <td>97</td>\n",
              "      <td>Tekkaguyaテッカグヤ</td>\n",
              "      <td>Celesteela</td>\n",
              "      <td>NaN</td>\n",
              "      <td>797</td>\n",
              "      <td>107</td>\n",
              "      <td>101</td>\n",
              "      <td>61</td>\n",
              "      <td>steel</td>\n",
              "      <td>flying</td>\n",
              "      <td>999.9</td>\n",
              "      <td>7</td>\n",
              "      <td>1</td>\n",
              "    </tr>\n",
              "    <tr>\n",
              "      <th>797</th>\n",
              "      <td>['Beast Boost']</td>\n",
              "      <td>1.00</td>\n",
              "      <td>1.0</td>\n",
              "      <td>0.5</td>\n",
              "      <td>0.5</td>\n",
              "      <td>0.5</td>\n",
              "      <td>2.0</td>\n",
              "      <td>4.0</td>\n",
              "      <td>1.0</td>\n",
              "      <td>1.0</td>\n",
              "      <td>0.25</td>\n",
              "      <td>1.0</td>\n",
              "      <td>1.0</td>\n",
              "      <td>0.5</td>\n",
              "      <td>0.0</td>\n",
              "      <td>0.5</td>\n",
              "      <td>0.5</td>\n",
              "      <td>0.5</td>\n",
              "      <td>0.5</td>\n",
              "      <td>181</td>\n",
              "      <td>30720</td>\n",
              "      <td>0</td>\n",
              "      <td>570</td>\n",
              "      <td>255</td>\n",
              "      <td>Drawn Sword Pokémon</td>\n",
              "      <td>131</td>\n",
              "      <td>1250000</td>\n",
              "      <td>0.3</td>\n",
              "      <td>59</td>\n",
              "      <td>Kamiturugiカミツルギ</td>\n",
              "      <td>Kartana</td>\n",
              "      <td>NaN</td>\n",
              "      <td>798</td>\n",
              "      <td>59</td>\n",
              "      <td>31</td>\n",
              "      <td>109</td>\n",
              "      <td>grass</td>\n",
              "      <td>steel</td>\n",
              "      <td>0.1</td>\n",
              "      <td>7</td>\n",
              "      <td>1</td>\n",
              "    </tr>\n",
              "    <tr>\n",
              "      <th>798</th>\n",
              "      <td>['Beast Boost']</td>\n",
              "      <td>2.00</td>\n",
              "      <td>0.5</td>\n",
              "      <td>2.0</td>\n",
              "      <td>0.5</td>\n",
              "      <td>4.0</td>\n",
              "      <td>2.0</td>\n",
              "      <td>0.5</td>\n",
              "      <td>1.0</td>\n",
              "      <td>0.5</td>\n",
              "      <td>0.50</td>\n",
              "      <td>1.0</td>\n",
              "      <td>2.0</td>\n",
              "      <td>1.0</td>\n",
              "      <td>1.0</td>\n",
              "      <td>0.0</td>\n",
              "      <td>1.0</td>\n",
              "      <td>1.0</td>\n",
              "      <td>0.5</td>\n",
              "      <td>101</td>\n",
              "      <td>30720</td>\n",
              "      <td>0</td>\n",
              "      <td>570</td>\n",
              "      <td>15</td>\n",
              "      <td>Junkivore Pokémon</td>\n",
              "      <td>53</td>\n",
              "      <td>1250000</td>\n",
              "      <td>5.5</td>\n",
              "      <td>223</td>\n",
              "      <td>Akuzikingアクジキング</td>\n",
              "      <td>Guzzlord</td>\n",
              "      <td>NaN</td>\n",
              "      <td>799</td>\n",
              "      <td>97</td>\n",
              "      <td>53</td>\n",
              "      <td>43</td>\n",
              "      <td>dark</td>\n",
              "      <td>dragon</td>\n",
              "      <td>888.0</td>\n",
              "      <td>7</td>\n",
              "      <td>1</td>\n",
              "    </tr>\n",
              "    <tr>\n",
              "      <th>799</th>\n",
              "      <td>['Prism Armor']</td>\n",
              "      <td>2.00</td>\n",
              "      <td>2.0</td>\n",
              "      <td>1.0</td>\n",
              "      <td>1.0</td>\n",
              "      <td>1.0</td>\n",
              "      <td>0.5</td>\n",
              "      <td>1.0</td>\n",
              "      <td>1.0</td>\n",
              "      <td>2.0</td>\n",
              "      <td>1.00</td>\n",
              "      <td>1.0</td>\n",
              "      <td>1.0</td>\n",
              "      <td>1.0</td>\n",
              "      <td>1.0</td>\n",
              "      <td>0.5</td>\n",
              "      <td>1.0</td>\n",
              "      <td>1.0</td>\n",
              "      <td>1.0</td>\n",
              "      <td>107</td>\n",
              "      <td>30720</td>\n",
              "      <td>0</td>\n",
              "      <td>600</td>\n",
              "      <td>3</td>\n",
              "      <td>Prism Pokémon</td>\n",
              "      <td>101</td>\n",
              "      <td>1250000</td>\n",
              "      <td>2.4</td>\n",
              "      <td>97</td>\n",
              "      <td>Necrozmaネクロズマ</td>\n",
              "      <td>Necrozma</td>\n",
              "      <td>NaN</td>\n",
              "      <td>800</td>\n",
              "      <td>127</td>\n",
              "      <td>89</td>\n",
              "      <td>79</td>\n",
              "      <td>psychic</td>\n",
              "      <td>NaN</td>\n",
              "      <td>230.0</td>\n",
              "      <td>7</td>\n",
              "      <td>1</td>\n",
              "    </tr>\n",
              "    <tr>\n",
              "      <th>800</th>\n",
              "      <td>['Soul-Heart']</td>\n",
              "      <td>0.25</td>\n",
              "      <td>0.5</td>\n",
              "      <td>0.0</td>\n",
              "      <td>1.0</td>\n",
              "      <td>0.5</td>\n",
              "      <td>1.0</td>\n",
              "      <td>2.0</td>\n",
              "      <td>0.5</td>\n",
              "      <td>1.0</td>\n",
              "      <td>0.50</td>\n",
              "      <td>2.0</td>\n",
              "      <td>0.5</td>\n",
              "      <td>0.5</td>\n",
              "      <td>0.0</td>\n",
              "      <td>0.5</td>\n",
              "      <td>0.5</td>\n",
              "      <td>1.0</td>\n",
              "      <td>1.0</td>\n",
              "      <td>95</td>\n",
              "      <td>30720</td>\n",
              "      <td>0</td>\n",
              "      <td>600</td>\n",
              "      <td>3</td>\n",
              "      <td>Artificial Pokémon</td>\n",
              "      <td>115</td>\n",
              "      <td>1250000</td>\n",
              "      <td>1.0</td>\n",
              "      <td>80</td>\n",
              "      <td>Magearnaマギアナ</td>\n",
              "      <td>Magearna</td>\n",
              "      <td>NaN</td>\n",
              "      <td>801</td>\n",
              "      <td>130</td>\n",
              "      <td>115</td>\n",
              "      <td>65</td>\n",
              "      <td>steel</td>\n",
              "      <td>fairy</td>\n",
              "      <td>80.5</td>\n",
              "      <td>7</td>\n",
              "      <td>1</td>\n",
              "    </tr>\n",
              "  </tbody>\n",
              "</table>\n",
              "</div>"
            ],
            "text/plain": [
              "           abilities  against_bug  ...  generation  is_legendary\n",
              "796  ['Beast Boost']         0.25  ...           7             1\n",
              "797  ['Beast Boost']         1.00  ...           7             1\n",
              "798  ['Beast Boost']         2.00  ...           7             1\n",
              "799  ['Prism Armor']         2.00  ...           7             1\n",
              "800   ['Soul-Heart']         0.25  ...           7             1\n",
              "\n",
              "[5 rows x 41 columns]"
            ]
          },
          "metadata": {
            "tags": []
          },
          "execution_count": 2
        }
      ]
    },
    {
      "cell_type": "code",
      "metadata": {
        "colab": {
          "base_uri": "https://localhost:8080/",
          "height": 309
        },
        "id": "kO4zcvaMp4r_",
        "outputId": "8d3d5cb3-4b42-486e-f7b5-8beb5e91a7f8"
      },
      "source": [
        "df = df.drop(columns= ['abilities','against_bug','against_dark','against_dragon','against_electric','against_fairy','against_fight','against_fire','against_flying','against_ghost','against_grass','against_ground','against_ice','against_normal','against_poison','against_psychic','against_rock','against_steel','against_water', ], axis = 1)\n",
        "df.head()"
      ],
      "execution_count": null,
      "outputs": [
        {
          "output_type": "execute_result",
          "data": {
            "text/html": [
              "<div>\n",
              "<style scoped>\n",
              "    .dataframe tbody tr th:only-of-type {\n",
              "        vertical-align: middle;\n",
              "    }\n",
              "\n",
              "    .dataframe tbody tr th {\n",
              "        vertical-align: top;\n",
              "    }\n",
              "\n",
              "    .dataframe thead th {\n",
              "        text-align: right;\n",
              "    }\n",
              "</style>\n",
              "<table border=\"1\" class=\"dataframe\">\n",
              "  <thead>\n",
              "    <tr style=\"text-align: right;\">\n",
              "      <th></th>\n",
              "      <th>attack</th>\n",
              "      <th>base_egg_steps</th>\n",
              "      <th>base_happiness</th>\n",
              "      <th>base_total</th>\n",
              "      <th>capture_rate</th>\n",
              "      <th>classfication</th>\n",
              "      <th>defense</th>\n",
              "      <th>experience_growth</th>\n",
              "      <th>height_m</th>\n",
              "      <th>hp</th>\n",
              "      <th>japanese_name</th>\n",
              "      <th>name</th>\n",
              "      <th>percentage_male</th>\n",
              "      <th>pokedex_number</th>\n",
              "      <th>sp_attack</th>\n",
              "      <th>sp_defense</th>\n",
              "      <th>speed</th>\n",
              "      <th>type1</th>\n",
              "      <th>type2</th>\n",
              "      <th>weight_kg</th>\n",
              "      <th>generation</th>\n",
              "      <th>is_legendary</th>\n",
              "    </tr>\n",
              "  </thead>\n",
              "  <tbody>\n",
              "    <tr>\n",
              "      <th>0</th>\n",
              "      <td>49</td>\n",
              "      <td>5120</td>\n",
              "      <td>70</td>\n",
              "      <td>318</td>\n",
              "      <td>45</td>\n",
              "      <td>Seed Pokémon</td>\n",
              "      <td>49</td>\n",
              "      <td>1059860</td>\n",
              "      <td>0.7</td>\n",
              "      <td>45</td>\n",
              "      <td>Fushigidaneフシギダネ</td>\n",
              "      <td>Bulbasaur</td>\n",
              "      <td>88.1</td>\n",
              "      <td>1</td>\n",
              "      <td>65</td>\n",
              "      <td>65</td>\n",
              "      <td>45</td>\n",
              "      <td>grass</td>\n",
              "      <td>poison</td>\n",
              "      <td>6.9</td>\n",
              "      <td>1</td>\n",
              "      <td>0</td>\n",
              "    </tr>\n",
              "    <tr>\n",
              "      <th>1</th>\n",
              "      <td>62</td>\n",
              "      <td>5120</td>\n",
              "      <td>70</td>\n",
              "      <td>405</td>\n",
              "      <td>45</td>\n",
              "      <td>Seed Pokémon</td>\n",
              "      <td>63</td>\n",
              "      <td>1059860</td>\n",
              "      <td>1.0</td>\n",
              "      <td>60</td>\n",
              "      <td>Fushigisouフシギソウ</td>\n",
              "      <td>Ivysaur</td>\n",
              "      <td>88.1</td>\n",
              "      <td>2</td>\n",
              "      <td>80</td>\n",
              "      <td>80</td>\n",
              "      <td>60</td>\n",
              "      <td>grass</td>\n",
              "      <td>poison</td>\n",
              "      <td>13.0</td>\n",
              "      <td>1</td>\n",
              "      <td>0</td>\n",
              "    </tr>\n",
              "    <tr>\n",
              "      <th>2</th>\n",
              "      <td>100</td>\n",
              "      <td>5120</td>\n",
              "      <td>70</td>\n",
              "      <td>625</td>\n",
              "      <td>45</td>\n",
              "      <td>Seed Pokémon</td>\n",
              "      <td>123</td>\n",
              "      <td>1059860</td>\n",
              "      <td>2.0</td>\n",
              "      <td>80</td>\n",
              "      <td>Fushigibanaフシギバナ</td>\n",
              "      <td>Venusaur</td>\n",
              "      <td>88.1</td>\n",
              "      <td>3</td>\n",
              "      <td>122</td>\n",
              "      <td>120</td>\n",
              "      <td>80</td>\n",
              "      <td>grass</td>\n",
              "      <td>poison</td>\n",
              "      <td>100.0</td>\n",
              "      <td>1</td>\n",
              "      <td>0</td>\n",
              "    </tr>\n",
              "    <tr>\n",
              "      <th>3</th>\n",
              "      <td>52</td>\n",
              "      <td>5120</td>\n",
              "      <td>70</td>\n",
              "      <td>309</td>\n",
              "      <td>45</td>\n",
              "      <td>Lizard Pokémon</td>\n",
              "      <td>43</td>\n",
              "      <td>1059860</td>\n",
              "      <td>0.6</td>\n",
              "      <td>39</td>\n",
              "      <td>Hitokageヒトカゲ</td>\n",
              "      <td>Charmander</td>\n",
              "      <td>88.1</td>\n",
              "      <td>4</td>\n",
              "      <td>60</td>\n",
              "      <td>50</td>\n",
              "      <td>65</td>\n",
              "      <td>fire</td>\n",
              "      <td>NaN</td>\n",
              "      <td>8.5</td>\n",
              "      <td>1</td>\n",
              "      <td>0</td>\n",
              "    </tr>\n",
              "    <tr>\n",
              "      <th>4</th>\n",
              "      <td>64</td>\n",
              "      <td>5120</td>\n",
              "      <td>70</td>\n",
              "      <td>405</td>\n",
              "      <td>45</td>\n",
              "      <td>Flame Pokémon</td>\n",
              "      <td>58</td>\n",
              "      <td>1059860</td>\n",
              "      <td>1.1</td>\n",
              "      <td>58</td>\n",
              "      <td>Lizardoリザード</td>\n",
              "      <td>Charmeleon</td>\n",
              "      <td>88.1</td>\n",
              "      <td>5</td>\n",
              "      <td>80</td>\n",
              "      <td>65</td>\n",
              "      <td>80</td>\n",
              "      <td>fire</td>\n",
              "      <td>NaN</td>\n",
              "      <td>19.0</td>\n",
              "      <td>1</td>\n",
              "      <td>0</td>\n",
              "    </tr>\n",
              "  </tbody>\n",
              "</table>\n",
              "</div>"
            ],
            "text/plain": [
              "   attack  base_egg_steps  base_happiness  ...  weight_kg generation is_legendary\n",
              "0      49            5120              70  ...        6.9          1            0\n",
              "1      62            5120              70  ...       13.0          1            0\n",
              "2     100            5120              70  ...      100.0          1            0\n",
              "3      52            5120              70  ...        8.5          1            0\n",
              "4      64            5120              70  ...       19.0          1            0\n",
              "\n",
              "[5 rows x 22 columns]"
            ]
          },
          "metadata": {
            "tags": []
          },
          "execution_count": 3
        }
      ]
    },
    {
      "cell_type": "code",
      "metadata": {
        "colab": {
          "base_uri": "https://localhost:8080/",
          "height": 204
        },
        "id": "qVbvVnQCqlSg",
        "outputId": "de1b06a5-8cd2-4fb9-d265-d9a80927f0d8"
      },
      "source": [
        "df = df[['pokedex_number','name', 'classfication', 'type1', 'type2', 'base_total', 'attack', 'defense', 'hp', 'sp_attack', 'sp_defense','speed', 'height_m', 'weight_kg', 'base_happiness', 'base_egg_steps', 'experience_growth', 'capture_rate', 'generation', 'is_legendary' ]]\n",
        "df.head()"
      ],
      "execution_count": null,
      "outputs": [
        {
          "output_type": "execute_result",
          "data": {
            "text/html": [
              "<div>\n",
              "<style scoped>\n",
              "    .dataframe tbody tr th:only-of-type {\n",
              "        vertical-align: middle;\n",
              "    }\n",
              "\n",
              "    .dataframe tbody tr th {\n",
              "        vertical-align: top;\n",
              "    }\n",
              "\n",
              "    .dataframe thead th {\n",
              "        text-align: right;\n",
              "    }\n",
              "</style>\n",
              "<table border=\"1\" class=\"dataframe\">\n",
              "  <thead>\n",
              "    <tr style=\"text-align: right;\">\n",
              "      <th></th>\n",
              "      <th>pokedex_number</th>\n",
              "      <th>name</th>\n",
              "      <th>classfication</th>\n",
              "      <th>type1</th>\n",
              "      <th>type2</th>\n",
              "      <th>base_total</th>\n",
              "      <th>attack</th>\n",
              "      <th>defense</th>\n",
              "      <th>hp</th>\n",
              "      <th>sp_attack</th>\n",
              "      <th>sp_defense</th>\n",
              "      <th>speed</th>\n",
              "      <th>height_m</th>\n",
              "      <th>weight_kg</th>\n",
              "      <th>base_happiness</th>\n",
              "      <th>base_egg_steps</th>\n",
              "      <th>experience_growth</th>\n",
              "      <th>capture_rate</th>\n",
              "      <th>generation</th>\n",
              "      <th>is_legendary</th>\n",
              "    </tr>\n",
              "  </thead>\n",
              "  <tbody>\n",
              "    <tr>\n",
              "      <th>0</th>\n",
              "      <td>1</td>\n",
              "      <td>Bulbasaur</td>\n",
              "      <td>Seed Pokémon</td>\n",
              "      <td>grass</td>\n",
              "      <td>poison</td>\n",
              "      <td>318</td>\n",
              "      <td>49</td>\n",
              "      <td>49</td>\n",
              "      <td>45</td>\n",
              "      <td>65</td>\n",
              "      <td>65</td>\n",
              "      <td>45</td>\n",
              "      <td>0.7</td>\n",
              "      <td>6.9</td>\n",
              "      <td>70</td>\n",
              "      <td>5120</td>\n",
              "      <td>1059860</td>\n",
              "      <td>45</td>\n",
              "      <td>1</td>\n",
              "      <td>0</td>\n",
              "    </tr>\n",
              "    <tr>\n",
              "      <th>1</th>\n",
              "      <td>2</td>\n",
              "      <td>Ivysaur</td>\n",
              "      <td>Seed Pokémon</td>\n",
              "      <td>grass</td>\n",
              "      <td>poison</td>\n",
              "      <td>405</td>\n",
              "      <td>62</td>\n",
              "      <td>63</td>\n",
              "      <td>60</td>\n",
              "      <td>80</td>\n",
              "      <td>80</td>\n",
              "      <td>60</td>\n",
              "      <td>1.0</td>\n",
              "      <td>13.0</td>\n",
              "      <td>70</td>\n",
              "      <td>5120</td>\n",
              "      <td>1059860</td>\n",
              "      <td>45</td>\n",
              "      <td>1</td>\n",
              "      <td>0</td>\n",
              "    </tr>\n",
              "    <tr>\n",
              "      <th>2</th>\n",
              "      <td>3</td>\n",
              "      <td>Venusaur</td>\n",
              "      <td>Seed Pokémon</td>\n",
              "      <td>grass</td>\n",
              "      <td>poison</td>\n",
              "      <td>625</td>\n",
              "      <td>100</td>\n",
              "      <td>123</td>\n",
              "      <td>80</td>\n",
              "      <td>122</td>\n",
              "      <td>120</td>\n",
              "      <td>80</td>\n",
              "      <td>2.0</td>\n",
              "      <td>100.0</td>\n",
              "      <td>70</td>\n",
              "      <td>5120</td>\n",
              "      <td>1059860</td>\n",
              "      <td>45</td>\n",
              "      <td>1</td>\n",
              "      <td>0</td>\n",
              "    </tr>\n",
              "    <tr>\n",
              "      <th>3</th>\n",
              "      <td>4</td>\n",
              "      <td>Charmander</td>\n",
              "      <td>Lizard Pokémon</td>\n",
              "      <td>fire</td>\n",
              "      <td>NaN</td>\n",
              "      <td>309</td>\n",
              "      <td>52</td>\n",
              "      <td>43</td>\n",
              "      <td>39</td>\n",
              "      <td>60</td>\n",
              "      <td>50</td>\n",
              "      <td>65</td>\n",
              "      <td>0.6</td>\n",
              "      <td>8.5</td>\n",
              "      <td>70</td>\n",
              "      <td>5120</td>\n",
              "      <td>1059860</td>\n",
              "      <td>45</td>\n",
              "      <td>1</td>\n",
              "      <td>0</td>\n",
              "    </tr>\n",
              "    <tr>\n",
              "      <th>4</th>\n",
              "      <td>5</td>\n",
              "      <td>Charmeleon</td>\n",
              "      <td>Flame Pokémon</td>\n",
              "      <td>fire</td>\n",
              "      <td>NaN</td>\n",
              "      <td>405</td>\n",
              "      <td>64</td>\n",
              "      <td>58</td>\n",
              "      <td>58</td>\n",
              "      <td>80</td>\n",
              "      <td>65</td>\n",
              "      <td>80</td>\n",
              "      <td>1.1</td>\n",
              "      <td>19.0</td>\n",
              "      <td>70</td>\n",
              "      <td>5120</td>\n",
              "      <td>1059860</td>\n",
              "      <td>45</td>\n",
              "      <td>1</td>\n",
              "      <td>0</td>\n",
              "    </tr>\n",
              "  </tbody>\n",
              "</table>\n",
              "</div>"
            ],
            "text/plain": [
              "   pokedex_number        name  ... generation is_legendary\n",
              "0               1   Bulbasaur  ...          1            0\n",
              "1               2     Ivysaur  ...          1            0\n",
              "2               3    Venusaur  ...          1            0\n",
              "3               4  Charmander  ...          1            0\n",
              "4               5  Charmeleon  ...          1            0\n",
              "\n",
              "[5 rows x 20 columns]"
            ]
          },
          "metadata": {
            "tags": []
          },
          "execution_count": 4
        }
      ]
    },
    {
      "cell_type": "code",
      "metadata": {
        "id": "HW4hNJuoC3Fv"
      },
      "source": [
        "#Minior = df[df['capture_rate'] == \"30 (Meteorite)255 (Core)\"]\n",
        "\n",
        "#print(Minior)\n",
        "\n",
        "df['capture_rate'][773] = 285/2"
      ],
      "execution_count": null,
      "outputs": []
    },
    {
      "cell_type": "code",
      "metadata": {
        "id": "3FVzG-byFQvH"
      },
      "source": [
        "df['capture_rate']= df['capture_rate'].astype(int)"
      ],
      "execution_count": null,
      "outputs": []
    },
    {
      "cell_type": "code",
      "metadata": {
        "colab": {
          "base_uri": "https://localhost:8080/",
          "height": 961
        },
        "id": "TgU9TFLeWslX",
        "outputId": "1bbcca10-2e8f-4655-8d2b-c59a9da8da4e"
      },
      "source": [
        "df[df['weight_kg'].isnull()]\n"
      ],
      "execution_count": null,
      "outputs": [
        {
          "output_type": "execute_result",
          "data": {
            "text/html": [
              "<div>\n",
              "<style scoped>\n",
              "    .dataframe tbody tr th:only-of-type {\n",
              "        vertical-align: middle;\n",
              "    }\n",
              "\n",
              "    .dataframe tbody tr th {\n",
              "        vertical-align: top;\n",
              "    }\n",
              "\n",
              "    .dataframe thead th {\n",
              "        text-align: right;\n",
              "    }\n",
              "</style>\n",
              "<table border=\"1\" class=\"dataframe\">\n",
              "  <thead>\n",
              "    <tr style=\"text-align: right;\">\n",
              "      <th></th>\n",
              "      <th>pokedex_number</th>\n",
              "      <th>name</th>\n",
              "      <th>classfication</th>\n",
              "      <th>type1</th>\n",
              "      <th>type2</th>\n",
              "      <th>base_total</th>\n",
              "      <th>attack</th>\n",
              "      <th>defense</th>\n",
              "      <th>hp</th>\n",
              "      <th>sp_attack</th>\n",
              "      <th>sp_defense</th>\n",
              "      <th>speed</th>\n",
              "      <th>height_m</th>\n",
              "      <th>weight_kg</th>\n",
              "      <th>base_happiness</th>\n",
              "      <th>base_egg_steps</th>\n",
              "      <th>experience_growth</th>\n",
              "      <th>capture_rate</th>\n",
              "      <th>generation</th>\n",
              "      <th>is_legendary</th>\n",
              "    </tr>\n",
              "  </thead>\n",
              "  <tbody>\n",
              "    <tr>\n",
              "      <th>18</th>\n",
              "      <td>19</td>\n",
              "      <td>Rattata</td>\n",
              "      <td>Mouse Pokémon</td>\n",
              "      <td>normal</td>\n",
              "      <td>dark</td>\n",
              "      <td>253</td>\n",
              "      <td>56</td>\n",
              "      <td>35</td>\n",
              "      <td>30</td>\n",
              "      <td>25</td>\n",
              "      <td>35</td>\n",
              "      <td>72</td>\n",
              "      <td>NaN</td>\n",
              "      <td>NaN</td>\n",
              "      <td>70</td>\n",
              "      <td>3840</td>\n",
              "      <td>1000000</td>\n",
              "      <td>255</td>\n",
              "      <td>1</td>\n",
              "      <td>0</td>\n",
              "    </tr>\n",
              "    <tr>\n",
              "      <th>19</th>\n",
              "      <td>20</td>\n",
              "      <td>Raticate</td>\n",
              "      <td>Mouse Pokémon</td>\n",
              "      <td>normal</td>\n",
              "      <td>dark</td>\n",
              "      <td>413</td>\n",
              "      <td>71</td>\n",
              "      <td>70</td>\n",
              "      <td>75</td>\n",
              "      <td>40</td>\n",
              "      <td>80</td>\n",
              "      <td>77</td>\n",
              "      <td>NaN</td>\n",
              "      <td>NaN</td>\n",
              "      <td>70</td>\n",
              "      <td>3840</td>\n",
              "      <td>1000000</td>\n",
              "      <td>127</td>\n",
              "      <td>1</td>\n",
              "      <td>0</td>\n",
              "    </tr>\n",
              "    <tr>\n",
              "      <th>25</th>\n",
              "      <td>26</td>\n",
              "      <td>Raichu</td>\n",
              "      <td>Mouse Pokémon</td>\n",
              "      <td>electric</td>\n",
              "      <td>electric</td>\n",
              "      <td>485</td>\n",
              "      <td>85</td>\n",
              "      <td>50</td>\n",
              "      <td>60</td>\n",
              "      <td>95</td>\n",
              "      <td>85</td>\n",
              "      <td>110</td>\n",
              "      <td>NaN</td>\n",
              "      <td>NaN</td>\n",
              "      <td>70</td>\n",
              "      <td>2560</td>\n",
              "      <td>1000000</td>\n",
              "      <td>75</td>\n",
              "      <td>1</td>\n",
              "      <td>0</td>\n",
              "    </tr>\n",
              "    <tr>\n",
              "      <th>26</th>\n",
              "      <td>27</td>\n",
              "      <td>Sandshrew</td>\n",
              "      <td>Mouse Pokémon</td>\n",
              "      <td>ground</td>\n",
              "      <td>ice</td>\n",
              "      <td>300</td>\n",
              "      <td>75</td>\n",
              "      <td>90</td>\n",
              "      <td>50</td>\n",
              "      <td>10</td>\n",
              "      <td>35</td>\n",
              "      <td>40</td>\n",
              "      <td>NaN</td>\n",
              "      <td>NaN</td>\n",
              "      <td>70</td>\n",
              "      <td>5120</td>\n",
              "      <td>1000000</td>\n",
              "      <td>255</td>\n",
              "      <td>1</td>\n",
              "      <td>0</td>\n",
              "    </tr>\n",
              "    <tr>\n",
              "      <th>27</th>\n",
              "      <td>28</td>\n",
              "      <td>Sandslash</td>\n",
              "      <td>Mouse Pokémon</td>\n",
              "      <td>ground</td>\n",
              "      <td>ice</td>\n",
              "      <td>450</td>\n",
              "      <td>100</td>\n",
              "      <td>120</td>\n",
              "      <td>75</td>\n",
              "      <td>25</td>\n",
              "      <td>65</td>\n",
              "      <td>65</td>\n",
              "      <td>NaN</td>\n",
              "      <td>NaN</td>\n",
              "      <td>70</td>\n",
              "      <td>5120</td>\n",
              "      <td>1000000</td>\n",
              "      <td>90</td>\n",
              "      <td>1</td>\n",
              "      <td>0</td>\n",
              "    </tr>\n",
              "    <tr>\n",
              "      <th>36</th>\n",
              "      <td>37</td>\n",
              "      <td>Vulpix</td>\n",
              "      <td>Fox Pokémon</td>\n",
              "      <td>fire</td>\n",
              "      <td>ice</td>\n",
              "      <td>299</td>\n",
              "      <td>41</td>\n",
              "      <td>40</td>\n",
              "      <td>38</td>\n",
              "      <td>50</td>\n",
              "      <td>65</td>\n",
              "      <td>65</td>\n",
              "      <td>NaN</td>\n",
              "      <td>NaN</td>\n",
              "      <td>70</td>\n",
              "      <td>5120</td>\n",
              "      <td>1000000</td>\n",
              "      <td>190</td>\n",
              "      <td>1</td>\n",
              "      <td>0</td>\n",
              "    </tr>\n",
              "    <tr>\n",
              "      <th>37</th>\n",
              "      <td>38</td>\n",
              "      <td>Ninetales</td>\n",
              "      <td>Fox Pokémon</td>\n",
              "      <td>fire</td>\n",
              "      <td>ice</td>\n",
              "      <td>505</td>\n",
              "      <td>67</td>\n",
              "      <td>75</td>\n",
              "      <td>73</td>\n",
              "      <td>81</td>\n",
              "      <td>100</td>\n",
              "      <td>109</td>\n",
              "      <td>NaN</td>\n",
              "      <td>NaN</td>\n",
              "      <td>70</td>\n",
              "      <td>5120</td>\n",
              "      <td>1000000</td>\n",
              "      <td>75</td>\n",
              "      <td>1</td>\n",
              "      <td>0</td>\n",
              "    </tr>\n",
              "    <tr>\n",
              "      <th>49</th>\n",
              "      <td>50</td>\n",
              "      <td>Diglett</td>\n",
              "      <td>Mole Pokémon</td>\n",
              "      <td>ground</td>\n",
              "      <td>ground</td>\n",
              "      <td>265</td>\n",
              "      <td>55</td>\n",
              "      <td>30</td>\n",
              "      <td>10</td>\n",
              "      <td>35</td>\n",
              "      <td>45</td>\n",
              "      <td>90</td>\n",
              "      <td>NaN</td>\n",
              "      <td>NaN</td>\n",
              "      <td>70</td>\n",
              "      <td>5120</td>\n",
              "      <td>1000000</td>\n",
              "      <td>255</td>\n",
              "      <td>1</td>\n",
              "      <td>0</td>\n",
              "    </tr>\n",
              "    <tr>\n",
              "      <th>50</th>\n",
              "      <td>51</td>\n",
              "      <td>Dugtrio</td>\n",
              "      <td>Mole Pokémon</td>\n",
              "      <td>ground</td>\n",
              "      <td>ground</td>\n",
              "      <td>425</td>\n",
              "      <td>100</td>\n",
              "      <td>60</td>\n",
              "      <td>35</td>\n",
              "      <td>50</td>\n",
              "      <td>70</td>\n",
              "      <td>110</td>\n",
              "      <td>NaN</td>\n",
              "      <td>NaN</td>\n",
              "      <td>70</td>\n",
              "      <td>5120</td>\n",
              "      <td>1000000</td>\n",
              "      <td>50</td>\n",
              "      <td>1</td>\n",
              "      <td>0</td>\n",
              "    </tr>\n",
              "    <tr>\n",
              "      <th>51</th>\n",
              "      <td>52</td>\n",
              "      <td>Meowth</td>\n",
              "      <td>Scratch Cat Pokémon</td>\n",
              "      <td>normal</td>\n",
              "      <td>dark</td>\n",
              "      <td>290</td>\n",
              "      <td>35</td>\n",
              "      <td>35</td>\n",
              "      <td>40</td>\n",
              "      <td>50</td>\n",
              "      <td>40</td>\n",
              "      <td>90</td>\n",
              "      <td>NaN</td>\n",
              "      <td>NaN</td>\n",
              "      <td>70</td>\n",
              "      <td>5120</td>\n",
              "      <td>1000000</td>\n",
              "      <td>255</td>\n",
              "      <td>1</td>\n",
              "      <td>0</td>\n",
              "    </tr>\n",
              "    <tr>\n",
              "      <th>52</th>\n",
              "      <td>53</td>\n",
              "      <td>Persian</td>\n",
              "      <td>Classy Cat Pokémon</td>\n",
              "      <td>normal</td>\n",
              "      <td>dark</td>\n",
              "      <td>440</td>\n",
              "      <td>60</td>\n",
              "      <td>60</td>\n",
              "      <td>65</td>\n",
              "      <td>75</td>\n",
              "      <td>65</td>\n",
              "      <td>115</td>\n",
              "      <td>NaN</td>\n",
              "      <td>NaN</td>\n",
              "      <td>70</td>\n",
              "      <td>5120</td>\n",
              "      <td>1000000</td>\n",
              "      <td>90</td>\n",
              "      <td>1</td>\n",
              "      <td>0</td>\n",
              "    </tr>\n",
              "    <tr>\n",
              "      <th>73</th>\n",
              "      <td>74</td>\n",
              "      <td>Geodude</td>\n",
              "      <td>Rock Pokémon</td>\n",
              "      <td>rock</td>\n",
              "      <td>ground</td>\n",
              "      <td>300</td>\n",
              "      <td>80</td>\n",
              "      <td>100</td>\n",
              "      <td>40</td>\n",
              "      <td>30</td>\n",
              "      <td>30</td>\n",
              "      <td>20</td>\n",
              "      <td>NaN</td>\n",
              "      <td>NaN</td>\n",
              "      <td>70</td>\n",
              "      <td>3840</td>\n",
              "      <td>1059860</td>\n",
              "      <td>255</td>\n",
              "      <td>1</td>\n",
              "      <td>0</td>\n",
              "    </tr>\n",
              "    <tr>\n",
              "      <th>74</th>\n",
              "      <td>75</td>\n",
              "      <td>Graveler</td>\n",
              "      <td>Rock Pokémon</td>\n",
              "      <td>rock</td>\n",
              "      <td>ground</td>\n",
              "      <td>390</td>\n",
              "      <td>95</td>\n",
              "      <td>115</td>\n",
              "      <td>55</td>\n",
              "      <td>45</td>\n",
              "      <td>45</td>\n",
              "      <td>35</td>\n",
              "      <td>NaN</td>\n",
              "      <td>NaN</td>\n",
              "      <td>70</td>\n",
              "      <td>3840</td>\n",
              "      <td>1059860</td>\n",
              "      <td>120</td>\n",
              "      <td>1</td>\n",
              "      <td>0</td>\n",
              "    </tr>\n",
              "    <tr>\n",
              "      <th>75</th>\n",
              "      <td>76</td>\n",
              "      <td>Golem</td>\n",
              "      <td>Megaton Pokémon</td>\n",
              "      <td>rock</td>\n",
              "      <td>ground</td>\n",
              "      <td>495</td>\n",
              "      <td>120</td>\n",
              "      <td>130</td>\n",
              "      <td>80</td>\n",
              "      <td>55</td>\n",
              "      <td>65</td>\n",
              "      <td>45</td>\n",
              "      <td>NaN</td>\n",
              "      <td>NaN</td>\n",
              "      <td>70</td>\n",
              "      <td>3840</td>\n",
              "      <td>1059860</td>\n",
              "      <td>45</td>\n",
              "      <td>1</td>\n",
              "      <td>0</td>\n",
              "    </tr>\n",
              "    <tr>\n",
              "      <th>87</th>\n",
              "      <td>88</td>\n",
              "      <td>Grimer</td>\n",
              "      <td>Sludge Pokémon</td>\n",
              "      <td>poison</td>\n",
              "      <td>poison</td>\n",
              "      <td>325</td>\n",
              "      <td>80</td>\n",
              "      <td>50</td>\n",
              "      <td>80</td>\n",
              "      <td>40</td>\n",
              "      <td>50</td>\n",
              "      <td>25</td>\n",
              "      <td>NaN</td>\n",
              "      <td>NaN</td>\n",
              "      <td>70</td>\n",
              "      <td>5120</td>\n",
              "      <td>1000000</td>\n",
              "      <td>190</td>\n",
              "      <td>1</td>\n",
              "      <td>0</td>\n",
              "    </tr>\n",
              "    <tr>\n",
              "      <th>88</th>\n",
              "      <td>89</td>\n",
              "      <td>Muk</td>\n",
              "      <td>Sludge Pokémon</td>\n",
              "      <td>poison</td>\n",
              "      <td>poison</td>\n",
              "      <td>500</td>\n",
              "      <td>105</td>\n",
              "      <td>75</td>\n",
              "      <td>105</td>\n",
              "      <td>65</td>\n",
              "      <td>100</td>\n",
              "      <td>50</td>\n",
              "      <td>NaN</td>\n",
              "      <td>NaN</td>\n",
              "      <td>70</td>\n",
              "      <td>5120</td>\n",
              "      <td>1000000</td>\n",
              "      <td>75</td>\n",
              "      <td>1</td>\n",
              "      <td>0</td>\n",
              "    </tr>\n",
              "    <tr>\n",
              "      <th>102</th>\n",
              "      <td>103</td>\n",
              "      <td>Exeggutor</td>\n",
              "      <td>Coconut Pokémon</td>\n",
              "      <td>grass</td>\n",
              "      <td>psychic</td>\n",
              "      <td>530</td>\n",
              "      <td>105</td>\n",
              "      <td>85</td>\n",
              "      <td>95</td>\n",
              "      <td>125</td>\n",
              "      <td>75</td>\n",
              "      <td>45</td>\n",
              "      <td>NaN</td>\n",
              "      <td>NaN</td>\n",
              "      <td>70</td>\n",
              "      <td>5120</td>\n",
              "      <td>1250000</td>\n",
              "      <td>45</td>\n",
              "      <td>1</td>\n",
              "      <td>0</td>\n",
              "    </tr>\n",
              "    <tr>\n",
              "      <th>104</th>\n",
              "      <td>105</td>\n",
              "      <td>Marowak</td>\n",
              "      <td>Bone Keeper Pokémon</td>\n",
              "      <td>ground</td>\n",
              "      <td>fire</td>\n",
              "      <td>425</td>\n",
              "      <td>80</td>\n",
              "      <td>110</td>\n",
              "      <td>60</td>\n",
              "      <td>50</td>\n",
              "      <td>80</td>\n",
              "      <td>45</td>\n",
              "      <td>NaN</td>\n",
              "      <td>NaN</td>\n",
              "      <td>70</td>\n",
              "      <td>5120</td>\n",
              "      <td>1000000</td>\n",
              "      <td>75</td>\n",
              "      <td>1</td>\n",
              "      <td>0</td>\n",
              "    </tr>\n",
              "    <tr>\n",
              "      <th>719</th>\n",
              "      <td>720</td>\n",
              "      <td>Hoopa</td>\n",
              "      <td>Mischief Pokémon (Confined)Djinn Pokémonn (Unb...</td>\n",
              "      <td>psychic</td>\n",
              "      <td>ghost</td>\n",
              "      <td>680</td>\n",
              "      <td>160</td>\n",
              "      <td>60</td>\n",
              "      <td>80</td>\n",
              "      <td>170</td>\n",
              "      <td>130</td>\n",
              "      <td>80</td>\n",
              "      <td>NaN</td>\n",
              "      <td>NaN</td>\n",
              "      <td>100</td>\n",
              "      <td>30720</td>\n",
              "      <td>1250000</td>\n",
              "      <td>3</td>\n",
              "      <td>6</td>\n",
              "      <td>1</td>\n",
              "    </tr>\n",
              "    <tr>\n",
              "      <th>744</th>\n",
              "      <td>745</td>\n",
              "      <td>Lycanroc</td>\n",
              "      <td>Wolf Pokémon</td>\n",
              "      <td>rock</td>\n",
              "      <td>NaN</td>\n",
              "      <td>487</td>\n",
              "      <td>115</td>\n",
              "      <td>75</td>\n",
              "      <td>85</td>\n",
              "      <td>55</td>\n",
              "      <td>75</td>\n",
              "      <td>82</td>\n",
              "      <td>NaN</td>\n",
              "      <td>NaN</td>\n",
              "      <td>70</td>\n",
              "      <td>3840</td>\n",
              "      <td>1000000</td>\n",
              "      <td>90</td>\n",
              "      <td>7</td>\n",
              "      <td>0</td>\n",
              "    </tr>\n",
              "  </tbody>\n",
              "</table>\n",
              "</div>"
            ],
            "text/plain": [
              "     pokedex_number       name  ... generation is_legendary\n",
              "18               19    Rattata  ...          1            0\n",
              "19               20   Raticate  ...          1            0\n",
              "25               26     Raichu  ...          1            0\n",
              "26               27  Sandshrew  ...          1            0\n",
              "27               28  Sandslash  ...          1            0\n",
              "36               37     Vulpix  ...          1            0\n",
              "37               38  Ninetales  ...          1            0\n",
              "49               50    Diglett  ...          1            0\n",
              "50               51    Dugtrio  ...          1            0\n",
              "51               52     Meowth  ...          1            0\n",
              "52               53    Persian  ...          1            0\n",
              "73               74    Geodude  ...          1            0\n",
              "74               75   Graveler  ...          1            0\n",
              "75               76      Golem  ...          1            0\n",
              "87               88     Grimer  ...          1            0\n",
              "88               89        Muk  ...          1            0\n",
              "102             103  Exeggutor  ...          1            0\n",
              "104             105    Marowak  ...          1            0\n",
              "719             720      Hoopa  ...          6            1\n",
              "744             745   Lycanroc  ...          7            0\n",
              "\n",
              "[20 rows x 20 columns]"
            ]
          },
          "metadata": {
            "tags": []
          },
          "execution_count": 7
        }
      ]
    },
    {
      "cell_type": "code",
      "metadata": {
        "colab": {
          "base_uri": "https://localhost:8080/"
        },
        "id": "WqFwZCmTXbJM",
        "outputId": "2bb1c056-6e30-4a42-b4ff-16411e6a7a36"
      },
      "source": [
        "df = df[df['weight_kg'].notna()]\n",
        "df.isnull().sum()"
      ],
      "execution_count": null,
      "outputs": [
        {
          "output_type": "execute_result",
          "data": {
            "text/plain": [
              "pokedex_number         0\n",
              "name                   0\n",
              "classfication          0\n",
              "type1                  0\n",
              "type2                383\n",
              "base_total             0\n",
              "attack                 0\n",
              "defense                0\n",
              "hp                     0\n",
              "sp_attack              0\n",
              "sp_defense             0\n",
              "speed                  0\n",
              "height_m               0\n",
              "weight_kg              0\n",
              "base_happiness         0\n",
              "base_egg_steps         0\n",
              "experience_growth      0\n",
              "capture_rate           0\n",
              "generation             0\n",
              "is_legendary           0\n",
              "dtype: int64"
            ]
          },
          "metadata": {
            "tags": []
          },
          "execution_count": 8
        }
      ]
    },
    {
      "cell_type": "code",
      "metadata": {
        "colab": {
          "base_uri": "https://localhost:8080/"
        },
        "id": "cjL5b5FjFnW8",
        "outputId": "6c9b2338-e319-46d4-977f-84fa8b542697"
      },
      "source": [
        "df.info()"
      ],
      "execution_count": null,
      "outputs": [
        {
          "output_type": "stream",
          "text": [
            "<class 'pandas.core.frame.DataFrame'>\n",
            "Int64Index: 781 entries, 0 to 800\n",
            "Data columns (total 20 columns):\n",
            " #   Column             Non-Null Count  Dtype  \n",
            "---  ------             --------------  -----  \n",
            " 0   pokedex_number     781 non-null    int64  \n",
            " 1   name               781 non-null    object \n",
            " 2   classfication      781 non-null    object \n",
            " 3   type1              781 non-null    object \n",
            " 4   type2              398 non-null    object \n",
            " 5   base_total         781 non-null    int64  \n",
            " 6   attack             781 non-null    int64  \n",
            " 7   defense            781 non-null    int64  \n",
            " 8   hp                 781 non-null    int64  \n",
            " 9   sp_attack          781 non-null    int64  \n",
            " 10  sp_defense         781 non-null    int64  \n",
            " 11  speed              781 non-null    int64  \n",
            " 12  height_m           781 non-null    float64\n",
            " 13  weight_kg          781 non-null    float64\n",
            " 14  base_happiness     781 non-null    int64  \n",
            " 15  base_egg_steps     781 non-null    int64  \n",
            " 16  experience_growth  781 non-null    int64  \n",
            " 17  capture_rate       781 non-null    int64  \n",
            " 18  generation         781 non-null    int64  \n",
            " 19  is_legendary       781 non-null    int64  \n",
            "dtypes: float64(2), int64(14), object(4)\n",
            "memory usage: 128.1+ KB\n"
          ],
          "name": "stdout"
        }
      ]
    },
    {
      "cell_type": "code",
      "metadata": {
        "colab": {
          "base_uri": "https://localhost:8080/",
          "height": 324
        },
        "id": "tsV-YJnhqfTb",
        "outputId": "c7d6cc5c-9ee8-4c22-a895-eda7fce50393"
      },
      "source": [
        "import matplotlib.pyplot as plt\n",
        "import seaborn as sns\n",
        "\n",
        "fig, ax = plt.subplots()\n",
        "\n",
        "x=[df['type1'], df['type2'].astype(str)]\n",
        "\n",
        "ax.hist(x)\n",
        "ax.set_xlabel('Types') \n",
        "ax.set_ylabel('Number') \n",
        "ax.set_title('Numbers of Type1 and Type2') \n",
        "\n",
        "plt.xticks(rotation='vertical')\n",
        "\n",
        "#ax.hist(df['type2'].astype(str))\n",
        "#plt.xticks(df['type2'].astype(str), rotation='vertical')\n",
        "\n",
        "plt.show()\n"
      ],
      "execution_count": null,
      "outputs": [
        {
          "output_type": "display_data",
          "data": {
            "image/png": "[encoded data removed]",
            "text/plain": [
              "<Figure size 432x288 with 1 Axes>"
            ]
          },
          "metadata": {
            "tags": [],
            "needs_background": "light"
          }
        }
      ]
    },
    {
      "cell_type": "code",
      "metadata": {
        "colab": {
          "base_uri": "https://localhost:8080/",
          "height": 295
        },
        "id": "rjd9ZNisxDpw",
        "outputId": "d4ed8d17-ca65-45e4-8414-a7e0aca778d8"
      },
      "source": [
        "fig,ax = plt.subplots()\n",
        "\n",
        "\n",
        "ax.scatter(df['weight_kg'],df['height_m'])\n",
        "ax.set_xlabel('Weight')\n",
        "ax.set_ylabel('Height')\n",
        "ax.set_title('Weights & Heights')\n",
        "\n",
        "plt.show()"
      ],
      "execution_count": null,
      "outputs": [
        {
          "output_type": "display_data",
          "data": {
            "image/png": "[encoded data removed]",
            "text/plain": [
              "<Figure size 432x288 with 1 Axes>"
            ]
          },
          "metadata": {
            "tags": [],
            "needs_background": "light"
          }
        }
      ]
    },
    {
      "cell_type": "code",
      "metadata": {
        "colab": {
          "base_uri": "https://localhost:8080/",
          "height": 401
        },
        "id": "cPQ-Ksp49lxU",
        "outputId": "d10a4cce-dbac-4271-c668-1f9173ff4619"
      },
      "source": [
        "sns.lmplot(data = df , x = 'weight_kg', y =\"height_m\", ci=None, hue = 'is_legendary')\n",
        "\n",
        "plt.show"
      ],
      "execution_count": null,
      "outputs": [
        {
          "output_type": "execute_result",
          "data": {
            "text/plain": [
              "<function matplotlib.pyplot.show>"
            ]
          },
          "metadata": {
            "tags": []
          },
          "execution_count": 12
        },
        {
          "output_type": "display_data",
          "data": {
            "image/png": "[encoded data removed]",
            "text/plain": [
              "<Figure size 431.5x360 with 1 Axes>"
            ]
          },
          "metadata": {
            "tags": [],
            "needs_background": "light"
          }
        }
      ]
    },
    {
      "cell_type": "code",
      "metadata": {
        "colab": {
          "base_uri": "https://localhost:8080/"
        },
        "id": "B4n2jk3xY4rT",
        "outputId": "b2024d2f-6e81-4fd7-fbb7-620fe9f52846"
      },
      "source": [
        "import scipy.stats as st\n",
        "\n",
        "_,p_val = st.ttest_ind(df['capture_rate'], df['weight_kg'])\n",
        "print('P-Value is:',p_val)"
      ],
      "execution_count": null,
      "outputs": [
        {
          "output_type": "stream",
          "text": [
            "P-Value is: 2.5989503458400436e-14\n"
          ],
          "name": "stdout"
        }
      ]
    },
    {
      "cell_type": "code",
      "metadata": {
        "colab": {
          "base_uri": "https://localhost:8080/",
          "height": 384
        },
        "id": "pQbzGVroB9LK",
        "outputId": "0c59b0d1-8dbd-4e43-f528-49731f887c3d"
      },
      "source": [
        "sns.lmplot(data = df, y ='capture_rate', x = 'weight_kg', hue='is_legendary')\n",
        "plt.show()"
      ],
      "execution_count": null,
      "outputs": [
        {
          "output_type": "display_data",
          "data": {
            "image/png": "[encoded data removed]",
            "text/plain": [
              "<Figure size 431.5x360 with 1 Axes>"
            ]
          },
          "metadata": {
            "tags": [],
            "needs_background": "light"
          }
        }
      ]
    },
    {
      "cell_type": "code",
      "metadata": {
        "colab": {
          "base_uri": "https://localhost:8080/",
          "height": 384
        },
        "id": "2iUsbYmMGBg0",
        "outputId": "024114c1-443f-4688-a5e2-9b8586eedbce"
      },
      "source": [
        "df['log_cap'] = np.log(df['capture_rate'])\n",
        "df['log_weight'] = np.log(df['weight_kg'])\n",
        "df['log_height'] = np.log(df['height_m'])\n",
        "sns.lmplot(data = df, y ='capture_rate', x = 'log_weight', hue='is_legendary')\n",
        "plt.show()"
      ],
      "execution_count": null,
      "outputs": [
        {
          "output_type": "display_data",
          "data": {
            "image/png": "[encoded data removed]",
            "text/plain": [
              "<Figure size 431.5x360 with 1 Axes>"
            ]
          },
          "metadata": {
            "tags": [],
            "needs_background": "light"
          }
        }
      ]
    },
    {
      "cell_type": "code",
      "metadata": {
        "colab": {
          "base_uri": "https://localhost:8080/"
        },
        "id": "F0ko6zYCZxK4",
        "outputId": "1ad73b26-93cd-4e81-82a1-8438d9f819e1"
      },
      "source": [
        "from scipy import stats\n",
        "r_, p_val = stats.pearsonr(df['weight_kg'],df['capture_rate'])\n",
        "print(r_)\n",
        "print(p_val)"
      ],
      "execution_count": null,
      "outputs": [
        {
          "output_type": "stream",
          "text": [
            "-0.3274526923755594\n",
            "5.6277791769044774e-21\n"
          ],
          "name": "stdout"
        }
      ]
    },
    {
      "cell_type": "code",
      "metadata": {
        "colab": {
          "base_uri": "https://localhost:8080/"
        },
        "id": "aXaaO6B4HP9V",
        "outputId": "dc829fe4-eda6-4044-e338-0939398f6f16"
      },
      "source": [
        "from statsmodels.formula.api import ols\n",
        "\n",
        "model = ols('capture_rate ~ weight_kg',data = df).fit()\n",
        "print(model.summary())"
      ],
      "execution_count": null,
      "outputs": [
        {
          "output_type": "stream",
          "text": [
            "                            OLS Regression Results                            \n",
            "==============================================================================\n",
            "Dep. Variable:           capture_rate   R-squared:                       0.107\n",
            "Model:                            OLS   Adj. R-squared:                  0.106\n",
            "Method:                 Least Squares   F-statistic:                     93.56\n",
            "Date:                Tue, 27 Apr 2021   Prob (F-statistic):           5.63e-21\n",
            "Time:                        18:12:35   Log-Likelihood:                -4444.2\n",
            "No. Observations:                 781   AIC:                             8892.\n",
            "Df Residuals:                     779   BIC:                             8902.\n",
            "Df Model:                           1                                         \n",
            "Covariance Type:            nonrobust                                         \n",
            "==============================================================================\n",
            "                 coef    std err          t      P>|t|      [0.025      0.975]\n",
            "------------------------------------------------------------------------------\n",
            "Intercept    111.9388      2.943     38.031      0.000     106.161     117.717\n",
            "weight_kg     -0.2271      0.023     -9.673      0.000      -0.273      -0.181\n",
            "==============================================================================\n",
            "Omnibus:                       95.301   Durbin-Watson:                   1.915\n",
            "Prob(Omnibus):                  0.000   Jarque-Bera (JB):               93.275\n",
            "Skew:                           0.781   Prob(JB):                     5.57e-21\n",
            "Kurtosis:                       2.348   Cond. No.                         144.\n",
            "==============================================================================\n",
            "\n",
            "Warnings:\n",
            "[1] Standard Errors assume that the covariance matrix of the errors is correctly specified.\n"
          ],
          "name": "stdout"
        },
        {
          "output_type": "stream",
          "text": [
            "/usr/local/lib/python3.7/dist-packages/statsmodels/tools/_testing.py:19: FutureWarning: pandas.util.testing is deprecated. Use the functions in the public API at pandas.testing instead.\n",
            "  import pandas.util.testing as tm\n"
          ],
          "name": "stderr"
        }
      ]
    },
    {
      "cell_type": "code",
      "metadata": {
        "colab": {
          "base_uri": "https://localhost:8080/"
        },
        "id": "19_orSMRHg5Z",
        "outputId": "cf674cf2-7bdc-4eb7-bc38-e311441a5d5e"
      },
      "source": [
        "model1 = ols('capture_rate ~ log_weight',data = df).fit()\n",
        "print(model1.summary())"
      ],
      "execution_count": null,
      "outputs": [
        {
          "output_type": "stream",
          "text": [
            "                            OLS Regression Results                            \n",
            "==============================================================================\n",
            "Dep. Variable:           capture_rate   R-squared:                       0.218\n",
            "Model:                            OLS   Adj. R-squared:                  0.217\n",
            "Method:                 Least Squares   F-statistic:                     216.6\n",
            "Date:                Tue, 27 Apr 2021   Prob (F-statistic):           1.89e-43\n",
            "Time:                        18:12:35   Log-Likelihood:                -4392.7\n",
            "No. Observations:                 781   AIC:                             8789.\n",
            "Df Residuals:                     779   BIC:                             8799.\n",
            "Df Model:                           1                                         \n",
            "Covariance Type:            nonrobust                                         \n",
            "==============================================================================\n",
            "                 coef    std err          t      P>|t|      [0.025      0.975]\n",
            "------------------------------------------------------------------------------\n",
            "Intercept    169.9100      5.444     31.208      0.000     159.222     180.598\n",
            "log_weight   -22.8813      1.555    -14.719      0.000     -25.933     -19.830\n",
            "==============================================================================\n",
            "Omnibus:                       27.300   Durbin-Watson:                   1.691\n",
            "Prob(Omnibus):                  0.000   Jarque-Bera (JB):               29.576\n",
            "Skew:                           0.477   Prob(JB):                     3.78e-07\n",
            "Kurtosis:                       2.993   Cond. No.                         8.47\n",
            "==============================================================================\n",
            "\n",
            "Warnings:\n",
            "[1] Standard Errors assume that the covariance matrix of the errors is correctly specified.\n"
          ],
          "name": "stdout"
        }
      ]
    },
    {
      "cell_type": "code",
      "metadata": {
        "colab": {
          "base_uri": "https://localhost:8080/"
        },
        "id": "pheAHjix_Cyt",
        "outputId": "121a9e6d-2e33-4912-f5e6-766ad0affd4b"
      },
      "source": [
        "_,p_val = st.ttest_ind(df['capture_rate'], df['height_m'])\n",
        "print('P-Value is:',p_val)"
      ],
      "execution_count": null,
      "outputs": [
        {
          "output_type": "stream",
          "text": [
            "P-Value is: 2.661271084804209e-204\n"
          ],
          "name": "stdout"
        }
      ]
    },
    {
      "cell_type": "code",
      "metadata": {
        "colab": {
          "base_uri": "https://localhost:8080/",
          "height": 384
        },
        "id": "oG1JCxJVFyY1",
        "outputId": "ef8774ec-313d-45fb-cb4a-bf2e243d9454"
      },
      "source": [
        "sns.lmplot(data = df, y='capture_rate', x = 'height_m', hue='is_legendary')\n",
        "plt.show()"
      ],
      "execution_count": null,
      "outputs": [
        {
          "output_type": "display_data",
          "data": {
            "image/png": "[encoded data removed]",
            "text/plain": [
              "<Figure size 431.5x360 with 1 Axes>"
            ]
          },
          "metadata": {
            "tags": [],
            "needs_background": "light"
          }
        }
      ]
    },
    {
      "cell_type": "code",
      "metadata": {
        "colab": {
          "base_uri": "https://localhost:8080/",
          "height": 384
        },
        "id": "esdF0G9yfzpR",
        "outputId": "15209133-cfa3-49bb-df2e-44b8a88dff5d"
      },
      "source": [
        "sns.lmplot(data = df, y ='capture_rate', x = 'log_height', hue='is_legendary')\n",
        "plt.show()"
      ],
      "execution_count": null,
      "outputs": [
        {
          "output_type": "display_data",
          "data": {
            "image/png": "[encoded data removed]",
            "text/plain": [
              "<Figure size 431.5x360 with 1 Axes>"
            ]
          },
          "metadata": {
            "tags": [],
            "needs_background": "light"
          }
        }
      ]
    },
    {
      "cell_type": "code",
      "metadata": {
        "colab": {
          "base_uri": "https://localhost:8080/"
        },
        "id": "-d8fWLaHWVwj",
        "outputId": "1751b1b9-bf26-4eb6-f551-fb4e43e77f74"
      },
      "source": [
        "r_, p_val = stats.pearsonr(df['height_m'],df['capture_rate'])\n",
        "print(r_)\n",
        "print(p_val)"
      ],
      "execution_count": null,
      "outputs": [
        {
          "output_type": "stream",
          "text": [
            "-0.38340474744066977\n",
            "9.419147568640666e-29\n"
          ],
          "name": "stdout"
        }
      ]
    },
    {
      "cell_type": "code",
      "metadata": {
        "colab": {
          "base_uri": "https://localhost:8080/"
        },
        "id": "5wvutAmzICYi",
        "outputId": "710fe5fa-ba16-4210-981a-969e6cea92d3"
      },
      "source": [
        "model2 = ols('capture_rate ~ height_m',data = df).fit()\n",
        "print(model2.summary())"
      ],
      "execution_count": null,
      "outputs": [
        {
          "output_type": "stream",
          "text": [
            "                            OLS Regression Results                            \n",
            "==============================================================================\n",
            "Dep. Variable:           capture_rate   R-squared:                       0.147\n",
            "Model:                            OLS   Adj. R-squared:                  0.146\n",
            "Method:                 Least Squares   F-statistic:                     134.2\n",
            "Date:                Tue, 27 Apr 2021   Prob (F-statistic):           9.42e-29\n",
            "Time:                        18:12:57   Log-Likelihood:                -4426.4\n",
            "No. Observations:                 781   AIC:                             8857.\n",
            "Df Residuals:                     779   BIC:                             8866.\n",
            "Df Model:                           1                                         \n",
            "Covariance Type:            nonrobust                                         \n",
            "==============================================================================\n",
            "                 coef    std err          t      P>|t|      [0.025      0.975]\n",
            "------------------------------------------------------------------------------\n",
            "Intercept    129.3300      3.689     35.063      0.000     122.089     136.571\n",
            "height_m     -26.9205      2.323    -11.586      0.000     -31.481     -22.360\n",
            "==============================================================================\n",
            "Omnibus:                       73.036   Durbin-Watson:                   1.802\n",
            "Prob(Omnibus):                  0.000   Jarque-Bera (JB):               92.715\n",
            "Skew:                           0.841   Prob(JB):                     7.37e-21\n",
            "Kurtosis:                       2.847   Cond. No.                         2.92\n",
            "==============================================================================\n",
            "\n",
            "Warnings:\n",
            "[1] Standard Errors assume that the covariance matrix of the errors is correctly specified.\n"
          ],
          "name": "stdout"
        }
      ]
    },
    {
      "cell_type": "code",
      "metadata": {
        "colab": {
          "base_uri": "https://localhost:8080/"
        },
        "id": "svFP5-P6IHe_",
        "outputId": "7ca7b3f9-9708-4ca6-abbb-df8517e3ba6a"
      },
      "source": [
        "model3 = ols('capture_rate ~ log_height',data = df).fit()\n",
        "print(model3.summary())"
      ],
      "execution_count": null,
      "outputs": [
        {
          "output_type": "stream",
          "text": [
            "                            OLS Regression Results                            \n",
            "==============================================================================\n",
            "Dep. Variable:           capture_rate   R-squared:                       0.278\n",
            "Model:                            OLS   Adj. R-squared:                  0.277\n",
            "Method:                 Least Squares   F-statistic:                     300.2\n",
            "Date:                Tue, 27 Apr 2021   Prob (F-statistic):           3.96e-57\n",
            "Time:                        18:12:58   Log-Likelihood:                -4361.2\n",
            "No. Observations:                 781   AIC:                             8726.\n",
            "Df Residuals:                     779   BIC:                             8736.\n",
            "Df Model:                           1                                         \n",
            "Covariance Type:            nonrobust                                         \n",
            "==============================================================================\n",
            "                 coef    std err          t      P>|t|      [0.025      0.975]\n",
            "------------------------------------------------------------------------------\n",
            "Intercept     92.0269      2.333     39.443      0.000      87.447      96.607\n",
            "log_height   -56.6025      3.267    -17.325      0.000     -63.016     -50.189\n",
            "==============================================================================\n",
            "Omnibus:                       24.378   Durbin-Watson:                   1.599\n",
            "Prob(Omnibus):                  0.000   Jarque-Bera (JB):               26.102\n",
            "Skew:                           0.448   Prob(JB):                     2.15e-06\n",
            "Kurtosis:                       3.012   Cond. No.                         1.45\n",
            "==============================================================================\n",
            "\n",
            "Warnings:\n",
            "[1] Standard Errors assume that the covariance matrix of the errors is correctly specified.\n"
          ],
          "name": "stdout"
        }
      ]
    },
    {
      "cell_type": "code",
      "metadata": {
        "colab": {
          "base_uri": "https://localhost:8080/"
        },
        "id": "WOgmUpXta9aZ",
        "outputId": "6d2234f9-1702-4086-f2fe-4fa0a9113f78"
      },
      "source": [
        "model4 = ols('capture_rate ~ log_weight + log_height',data = df).fit()\n",
        "print(model4.summary())"
      ],
      "execution_count": null,
      "outputs": [
        {
          "output_type": "stream",
          "text": [
            "                            OLS Regression Results                            \n",
            "==============================================================================\n",
            "Dep. Variable:           capture_rate   R-squared:                       0.283\n",
            "Model:                            OLS   Adj. R-squared:                  0.281\n",
            "Method:                 Least Squares   F-statistic:                     153.4\n",
            "Date:                Tue, 27 Apr 2021   Prob (F-statistic):           6.76e-57\n",
            "Time:                        18:12:58   Log-Likelihood:                -4358.7\n",
            "No. Observations:                 781   AIC:                             8723.\n",
            "Df Residuals:                     778   BIC:                             8737.\n",
            "Df Model:                           2                                         \n",
            "Covariance Type:            nonrobust                                         \n",
            "==============================================================================\n",
            "                 coef    std err          t      P>|t|      [0.025      0.975]\n",
            "------------------------------------------------------------------------------\n",
            "Intercept    111.0405      8.726     12.725      0.000      93.910     128.171\n",
            "log_weight    -5.7110      2.526     -2.261      0.024     -10.670      -0.752\n",
            "log_height   -46.5092      5.527     -8.415      0.000     -57.359     -35.659\n",
            "==============================================================================\n",
            "Omnibus:                       20.971   Durbin-Watson:                   1.604\n",
            "Prob(Omnibus):                  0.000   Jarque-Bera (JB):               22.127\n",
            "Skew:                           0.412   Prob(JB):                     1.57e-05\n",
            "Kurtosis:                       3.037   Cond. No.                         16.1\n",
            "==============================================================================\n",
            "\n",
            "Warnings:\n",
            "[1] Standard Errors assume that the covariance matrix of the errors is correctly specified.\n"
          ],
          "name": "stdout"
        }
      ]
    },
    {
      "cell_type": "code",
      "metadata": {
        "colab": {
          "base_uri": "https://localhost:8080/"
        },
        "id": "mTFL6aUqfULq",
        "outputId": "493865b7-44f0-4d26-ab87-36d2a68f7456"
      },
      "source": [
        "model_base = ols('capture_rate ~ weight_kg + height_m',data = df).fit()\n",
        "print(model_base.summary())"
      ],
      "execution_count": null,
      "outputs": [
        {
          "output_type": "stream",
          "text": [
            "                            OLS Regression Results                            \n",
            "==============================================================================\n",
            "Dep. Variable:           capture_rate   R-squared:                       0.160\n",
            "Model:                            OLS   Adj. R-squared:                  0.157\n",
            "Method:                 Least Squares   F-statistic:                     73.83\n",
            "Date:                Tue, 27 Apr 2021   Prob (F-statistic):           4.37e-30\n",
            "Time:                        18:12:59   Log-Likelihood:                -4420.6\n",
            "No. Observations:                 781   AIC:                             8847.\n",
            "Df Residuals:                     778   BIC:                             8861.\n",
            "Df Model:                           2                                         \n",
            "Covariance Type:            nonrobust                                         \n",
            "==============================================================================\n",
            "                 coef    std err          t      P>|t|      [0.025      0.975]\n",
            "------------------------------------------------------------------------------\n",
            "Intercept    128.0910      3.682     34.791      0.000     120.864     135.318\n",
            "weight_kg     -0.0996      0.029     -3.405      0.001      -0.157      -0.042\n",
            "height_m     -20.6030      2.961     -6.958      0.000     -26.416     -14.790\n",
            "==============================================================================\n",
            "Omnibus:                       72.298   Durbin-Watson:                   1.824\n",
            "Prob(Omnibus):                  0.000   Jarque-Bera (JB):               84.853\n",
            "Skew:                           0.781   Prob(JB):                     3.75e-19\n",
            "Kurtosis:                       2.593   Cond. No.                         216.\n",
            "==============================================================================\n",
            "\n",
            "Warnings:\n",
            "[1] Standard Errors assume that the covariance matrix of the errors is correctly specified.\n"
          ],
          "name": "stdout"
        }
      ]
    },
    {
      "cell_type": "code",
      "metadata": {
        "colab": {
          "base_uri": "https://localhost:8080/",
          "height": 258
        },
        "id": "2RA0EW47SMng",
        "outputId": "a2dd334c-5fe6-4835-d127-5853d2420eeb"
      },
      "source": [
        "df_no_leg = df[df['is_legendary'] == 0]\n",
        "df_no_leg = df_no_leg.drop(columns='is_legendary')\n",
        "df_no_leg.head()"
      ],
      "execution_count": null,
      "outputs": [
        {
          "output_type": "execute_result",
          "data": {
            "text/html": [
              "<div>\n",
              "<style scoped>\n",
              "    .dataframe tbody tr th:only-of-type {\n",
              "        vertical-align: middle;\n",
              "    }\n",
              "\n",
              "    .dataframe tbody tr th {\n",
              "        vertical-align: top;\n",
              "    }\n",
              "\n",
              "    .dataframe thead th {\n",
              "        text-align: right;\n",
              "    }\n",
              "</style>\n",
              "<table border=\"1\" class=\"dataframe\">\n",
              "  <thead>\n",
              "    <tr style=\"text-align: right;\">\n",
              "      <th></th>\n",
              "      <th>pokedex_number</th>\n",
              "      <th>name</th>\n",
              "      <th>classfication</th>\n",
              "      <th>type1</th>\n",
              "      <th>type2</th>\n",
              "      <th>base_total</th>\n",
              "      <th>attack</th>\n",
              "      <th>defense</th>\n",
              "      <th>hp</th>\n",
              "      <th>sp_attack</th>\n",
              "      <th>sp_defense</th>\n",
              "      <th>speed</th>\n",
              "      <th>height_m</th>\n",
              "      <th>weight_kg</th>\n",
              "      <th>base_happiness</th>\n",
              "      <th>base_egg_steps</th>\n",
              "      <th>experience_growth</th>\n",
              "      <th>capture_rate</th>\n",
              "      <th>generation</th>\n",
              "      <th>log_cap</th>\n",
              "      <th>log_weight</th>\n",
              "      <th>log_height</th>\n",
              "    </tr>\n",
              "  </thead>\n",
              "  <tbody>\n",
              "    <tr>\n",
              "      <th>0</th>\n",
              "      <td>1</td>\n",
              "      <td>Bulbasaur</td>\n",
              "      <td>Seed Pokémon</td>\n",
              "      <td>grass</td>\n",
              "      <td>poison</td>\n",
              "      <td>318</td>\n",
              "      <td>49</td>\n",
              "      <td>49</td>\n",
              "      <td>45</td>\n",
              "      <td>65</td>\n",
              "      <td>65</td>\n",
              "      <td>45</td>\n",
              "      <td>0.7</td>\n",
              "      <td>6.9</td>\n",
              "      <td>70</td>\n",
              "      <td>5120</td>\n",
              "      <td>1059860</td>\n",
              "      <td>45</td>\n",
              "      <td>1</td>\n",
              "      <td>3.806662</td>\n",
              "      <td>1.931521</td>\n",
              "      <td>-0.356675</td>\n",
              "    </tr>\n",
              "    <tr>\n",
              "      <th>1</th>\n",
              "      <td>2</td>\n",
              "      <td>Ivysaur</td>\n",
              "      <td>Seed Pokémon</td>\n",
              "      <td>grass</td>\n",
              "      <td>poison</td>\n",
              "      <td>405</td>\n",
              "      <td>62</td>\n",
              "      <td>63</td>\n",
              "      <td>60</td>\n",
              "      <td>80</td>\n",
              "      <td>80</td>\n",
              "      <td>60</td>\n",
              "      <td>1.0</td>\n",
              "      <td>13.0</td>\n",
              "      <td>70</td>\n",
              "      <td>5120</td>\n",
              "      <td>1059860</td>\n",
              "      <td>45</td>\n",
              "      <td>1</td>\n",
              "      <td>3.806662</td>\n",
              "      <td>2.564949</td>\n",
              "      <td>0.000000</td>\n",
              "    </tr>\n",
              "    <tr>\n",
              "      <th>2</th>\n",
              "      <td>3</td>\n",
              "      <td>Venusaur</td>\n",
              "      <td>Seed Pokémon</td>\n",
              "      <td>grass</td>\n",
              "      <td>poison</td>\n",
              "      <td>625</td>\n",
              "      <td>100</td>\n",
              "      <td>123</td>\n",
              "      <td>80</td>\n",
              "      <td>122</td>\n",
              "      <td>120</td>\n",
              "      <td>80</td>\n",
              "      <td>2.0</td>\n",
              "      <td>100.0</td>\n",
              "      <td>70</td>\n",
              "      <td>5120</td>\n",
              "      <td>1059860</td>\n",
              "      <td>45</td>\n",
              "      <td>1</td>\n",
              "      <td>3.806662</td>\n",
              "      <td>4.605170</td>\n",
              "      <td>0.693147</td>\n",
              "    </tr>\n",
              "    <tr>\n",
              "      <th>3</th>\n",
              "      <td>4</td>\n",
              "      <td>Charmander</td>\n",
              "      <td>Lizard Pokémon</td>\n",
              "      <td>fire</td>\n",
              "      <td>NaN</td>\n",
              "      <td>309</td>\n",
              "      <td>52</td>\n",
              "      <td>43</td>\n",
              "      <td>39</td>\n",
              "      <td>60</td>\n",
              "      <td>50</td>\n",
              "      <td>65</td>\n",
              "      <td>0.6</td>\n",
              "      <td>8.5</td>\n",
              "      <td>70</td>\n",
              "      <td>5120</td>\n",
              "      <td>1059860</td>\n",
              "      <td>45</td>\n",
              "      <td>1</td>\n",
              "      <td>3.806662</td>\n",
              "      <td>2.140066</td>\n",
              "      <td>-0.510826</td>\n",
              "    </tr>\n",
              "    <tr>\n",
              "      <th>4</th>\n",
              "      <td>5</td>\n",
              "      <td>Charmeleon</td>\n",
              "      <td>Flame Pokémon</td>\n",
              "      <td>fire</td>\n",
              "      <td>NaN</td>\n",
              "      <td>405</td>\n",
              "      <td>64</td>\n",
              "      <td>58</td>\n",
              "      <td>58</td>\n",
              "      <td>80</td>\n",
              "      <td>65</td>\n",
              "      <td>80</td>\n",
              "      <td>1.1</td>\n",
              "      <td>19.0</td>\n",
              "      <td>70</td>\n",
              "      <td>5120</td>\n",
              "      <td>1059860</td>\n",
              "      <td>45</td>\n",
              "      <td>1</td>\n",
              "      <td>3.806662</td>\n",
              "      <td>2.944439</td>\n",
              "      <td>0.095310</td>\n",
              "    </tr>\n",
              "  </tbody>\n",
              "</table>\n",
              "</div>"
            ],
            "text/plain": [
              "   pokedex_number        name   classfication  ...   log_cap log_weight  log_height\n",
              "0               1   Bulbasaur    Seed Pokémon  ...  3.806662   1.931521   -0.356675\n",
              "1               2     Ivysaur    Seed Pokémon  ...  3.806662   2.564949    0.000000\n",
              "2               3    Venusaur    Seed Pokémon  ...  3.806662   4.605170    0.693147\n",
              "3               4  Charmander  Lizard Pokémon  ...  3.806662   2.140066   -0.510826\n",
              "4               5  Charmeleon   Flame Pokémon  ...  3.806662   2.944439    0.095310\n",
              "\n",
              "[5 rows x 22 columns]"
            ]
          },
          "metadata": {
            "tags": []
          },
          "execution_count": 29
        }
      ]
    },
    {
      "cell_type": "code",
      "metadata": {
        "colab": {
          "base_uri": "https://localhost:8080/",
          "height": 401
        },
        "id": "gxniIaBLT31g",
        "outputId": "e8e200fc-70fb-4852-ac12-c2e72ed578ba"
      },
      "source": [
        "sns.lmplot(data = df_no_leg , x = 'weight_kg', y =\"height_m\", ci=None)\n",
        "\n",
        "plt.show"
      ],
      "execution_count": null,
      "outputs": [
        {
          "output_type": "execute_result",
          "data": {
            "text/plain": [
              "<function matplotlib.pyplot.show>"
            ]
          },
          "metadata": {
            "tags": []
          },
          "execution_count": 30
        },
        {
          "output_type": "display_data",
          "data": {
            "image/png": "[encoded data removed]",
            "text/plain": [
              "<Figure size 360x360 with 1 Axes>"
            ]
          },
          "metadata": {
            "tags": [],
            "needs_background": "light"
          }
        }
      ]
    },
    {
      "cell_type": "code",
      "metadata": {
        "colab": {
          "base_uri": "https://localhost:8080/",
          "height": 384
        },
        "id": "Fh6NU3cIUBxG",
        "outputId": "837c7e1d-56ba-498e-9ae1-e8f6c4acff91"
      },
      "source": [
        "sns.lmplot(data = df_no_leg, y ='capture_rate', x = 'log_weight')\n",
        "plt.show()"
      ],
      "execution_count": null,
      "outputs": [
        {
          "output_type": "display_data",
          "data": {
            "image/png": "[encoded data removed]",
            "text/plain": [
              "<Figure size 360x360 with 1 Axes>"
            ]
          },
          "metadata": {
            "tags": [],
            "needs_background": "light"
          }
        }
      ]
    },
    {
      "cell_type": "code",
      "metadata": {
        "colab": {
          "base_uri": "https://localhost:8080/"
        },
        "id": "7yOY85TmUPAm",
        "outputId": "05df93d7-db9e-41a9-f948-03b12e80c8ae"
      },
      "source": [
        "model_n1 = ols('capture_rate ~ log_weight ',data = df_no_leg).fit()\n",
        "print(model_n1.summary())"
      ],
      "execution_count": null,
      "outputs": [
        {
          "output_type": "stream",
          "text": [
            "                            OLS Regression Results                            \n",
            "==============================================================================\n",
            "Dep. Variable:           capture_rate   R-squared:                       0.217\n",
            "Model:                            OLS   Adj. R-squared:                  0.216\n",
            "Method:                 Least Squares   F-statistic:                     196.6\n",
            "Date:                Tue, 27 Apr 2021   Prob (F-statistic):           1.33e-39\n",
            "Time:                        18:13:02   Log-Likelihood:                -3985.5\n",
            "No. Observations:                 712   AIC:                             7975.\n",
            "Df Residuals:                     710   BIC:                             7984.\n",
            "Df Model:                           1                                         \n",
            "Covariance Type:            nonrobust                                         \n",
            "==============================================================================\n",
            "                 coef    std err          t      P>|t|      [0.025      0.975]\n",
            "------------------------------------------------------------------------------\n",
            "Intercept    179.0877      5.777     31.000      0.000     167.745     190.430\n",
            "log_weight   -24.0520      1.715    -14.021      0.000     -27.420     -20.684\n",
            "==============================================================================\n",
            "Omnibus:                       32.712   Durbin-Watson:                   1.859\n",
            "Prob(Omnibus):                  0.000   Jarque-Bera (JB):               35.735\n",
            "Skew:                           0.534   Prob(JB):                     1.74e-08\n",
            "Kurtosis:                       2.750   Cond. No.                         8.52\n",
            "==============================================================================\n",
            "\n",
            "Warnings:\n",
            "[1] Standard Errors assume that the covariance matrix of the errors is correctly specified.\n"
          ],
          "name": "stdout"
        }
      ]
    },
    {
      "cell_type": "code",
      "metadata": {
        "colab": {
          "base_uri": "https://localhost:8080/",
          "height": 384
        },
        "id": "I_ctEy9aUEnp",
        "outputId": "cfa33178-e392-4dc6-b143-d8be93fae735"
      },
      "source": [
        "sns.lmplot(data = df_no_leg, y ='capture_rate', x = 'log_height')\n",
        "plt.show()"
      ],
      "execution_count": null,
      "outputs": [
        {
          "output_type": "display_data",
          "data": {
            "image/png": "[encoded data removed]",
            "text/plain": [
              "<Figure size 360x360 with 1 Axes>"
            ]
          },
          "metadata": {
            "tags": [],
            "needs_background": "light"
          }
        }
      ]
    },
    {
      "cell_type": "code",
      "metadata": {
        "colab": {
          "base_uri": "https://localhost:8080/"
        },
        "id": "BRr3DZT6UXPm",
        "outputId": "4423cea4-f980-4a2b-fa85-3242b0864110"
      },
      "source": [
        "model_n2 = ols('capture_rate ~ log_height',data = df_no_leg).fit()\n",
        "print(model_n2.summary())"
      ],
      "execution_count": null,
      "outputs": [
        {
          "output_type": "stream",
          "text": [
            "                            OLS Regression Results                            \n",
            "==============================================================================\n",
            "Dep. Variable:           capture_rate   R-squared:                       0.280\n",
            "Model:                            OLS   Adj. R-squared:                  0.279\n",
            "Method:                 Least Squares   F-statistic:                     276.1\n",
            "Date:                Tue, 27 Apr 2021   Prob (F-statistic):           1.29e-52\n",
            "Time:                        18:13:03   Log-Likelihood:                -3955.5\n",
            "No. Observations:                 712   AIC:                             7915.\n",
            "Df Residuals:                     710   BIC:                             7924.\n",
            "Df Model:                           1                                         \n",
            "Covariance Type:            nonrobust                                         \n",
            "==============================================================================\n",
            "                 coef    std err          t      P>|t|      [0.025      0.975]\n",
            "------------------------------------------------------------------------------\n",
            "Intercept     96.0662      2.420     39.698      0.000      91.315     100.817\n",
            "log_height   -59.9605      3.609    -16.615      0.000     -67.045     -52.875\n",
            "==============================================================================\n",
            "Omnibus:                       25.158   Durbin-Watson:                   1.713\n",
            "Prob(Omnibus):                  0.000   Jarque-Bera (JB):               27.253\n",
            "Skew:                           0.475   Prob(JB):                     1.21e-06\n",
            "Kurtosis:                       2.867   Cond. No.                         1.60\n",
            "==============================================================================\n",
            "\n",
            "Warnings:\n",
            "[1] Standard Errors assume that the covariance matrix of the errors is correctly specified.\n"
          ],
          "name": "stdout"
        }
      ]
    },
    {
      "cell_type": "code",
      "metadata": {
        "colab": {
          "base_uri": "https://localhost:8080/"
        },
        "id": "XY8lj24FUeF4",
        "outputId": "3288f2a8-6050-4b35-c32a-2144c392b0e2"
      },
      "source": [
        "model_n_combo = ols('capture_rate ~ log_height + log_weight',data = df_no_leg).fit()\n",
        "print(model_n_combo.summary())"
      ],
      "execution_count": null,
      "outputs": [
        {
          "output_type": "stream",
          "text": [
            "                            OLS Regression Results                            \n",
            "==============================================================================\n",
            "Dep. Variable:           capture_rate   R-squared:                       0.285\n",
            "Model:                            OLS   Adj. R-squared:                  0.283\n",
            "Method:                 Least Squares   F-statistic:                     141.2\n",
            "Date:                Tue, 27 Apr 2021   Prob (F-statistic):           2.46e-52\n",
            "Time:                        18:13:03   Log-Likelihood:                -3953.1\n",
            "No. Observations:                 712   AIC:                             7912.\n",
            "Df Residuals:                     709   BIC:                             7926.\n",
            "Df Model:                           2                                         \n",
            "Covariance Type:            nonrobust                                         \n",
            "==============================================================================\n",
            "                 coef    std err          t      P>|t|      [0.025      0.975]\n",
            "------------------------------------------------------------------------------\n",
            "Intercept    116.0972      9.455     12.278      0.000      97.533     134.661\n",
            "log_height   -49.3946      6.017     -8.209      0.000     -61.209     -37.581\n",
            "log_weight    -6.0093      2.743     -2.191      0.029     -11.394      -0.625\n",
            "==============================================================================\n",
            "Omnibus:                       22.493   Durbin-Watson:                   1.726\n",
            "Prob(Omnibus):                  0.000   Jarque-Bera (JB):               24.136\n",
            "Skew:                           0.447   Prob(JB):                     5.74e-06\n",
            "Kurtosis:                       2.875   Cond. No.                         16.5\n",
            "==============================================================================\n",
            "\n",
            "Warnings:\n",
            "[1] Standard Errors assume that the covariance matrix of the errors is correctly specified.\n"
          ],
          "name": "stdout"
        }
      ]
    },
    {
      "cell_type": "code",
      "metadata": {
        "colab": {
          "base_uri": "https://localhost:8080/"
        },
        "id": "nB6QZLoh_UY7",
        "outputId": "28c48417-19ee-4617-86ea-755fefb09956"
      },
      "source": [
        "from scipy.stats import chi2_contingency\n",
        "g, p, dof, expected = chi2_contingency(pd.crosstab(index=df['capture_rate'], columns=df[\"base_total\"]))\n",
        "\n",
        "print('P-value is:', p)\n"
      ],
      "execution_count": null,
      "outputs": [
        {
          "output_type": "stream",
          "text": [
            "P-value is: 3.515352675309412e-87\n"
          ],
          "name": "stdout"
        }
      ]
    },
    {
      "cell_type": "code",
      "metadata": {
        "colab": {
          "base_uri": "https://localhost:8080/",
          "height": 384
        },
        "id": "JICliMbvejW7",
        "outputId": "fb6d2b8a-fdb7-45a9-e167-9b1aaebfdf3e"
      },
      "source": [
        "sns.lmplot(data = df, y='capture_rate', x = 'base_total')\n",
        "plt.show()"
      ],
      "execution_count": null,
      "outputs": [
        {
          "output_type": "display_data",
          "data": {
            "image/png": "[encoded data removed]",
            "text/plain": [
              "<Figure size 360x360 with 1 Axes>"
            ]
          },
          "metadata": {
            "tags": [],
            "needs_background": "light"
          }
        }
      ]
    },
    {
      "cell_type": "code",
      "metadata": {
        "colab": {
          "base_uri": "https://localhost:8080/",
          "height": 384
        },
        "id": "9FVVCjE1iTws",
        "outputId": "597e71ee-4bed-4fa9-8c69-c6a4005e2b8d"
      },
      "source": [
        "df['log_base']=np.log(df['base_total'])\n",
        "sns.lmplot(data = df, y='capture_rate', x = 'log_base')\n",
        "plt.show()"
      ],
      "execution_count": null,
      "outputs": [
        {
          "output_type": "display_data",
          "data": {
            "image/png": "[encoded data removed]",
            "text/plain": [
              "<Figure size 360x360 with 1 Axes>"
            ]
          },
          "metadata": {
            "tags": [],
            "needs_background": "light"
          }
        }
      ]
    },
    {
      "cell_type": "code",
      "metadata": {
        "colab": {
          "base_uri": "https://localhost:8080/"
        },
        "id": "z7VHpVuj_6jL",
        "outputId": "6f3e80e6-ac72-4b82-8950-b9b48c960fe6"
      },
      "source": [
        "model5 = ols('capture_rate ~ log_base + log_height + log_weight'  ,data = df).fit()\n",
        "print(model5.summary())"
      ],
      "execution_count": null,
      "outputs": [
        {
          "output_type": "stream",
          "text": [
            "                            OLS Regression Results                            \n",
            "==============================================================================\n",
            "Dep. Variable:           capture_rate   R-squared:                       0.525\n",
            "Model:                            OLS   Adj. R-squared:                  0.523\n",
            "Method:                 Least Squares   F-statistic:                     286.5\n",
            "Date:                Tue, 27 Apr 2021   Prob (F-statistic):          3.38e-125\n",
            "Time:                        18:13:10   Log-Likelihood:                -4197.6\n",
            "No. Observations:                 781   AIC:                             8403.\n",
            "Df Residuals:                     777   BIC:                             8422.\n",
            "Df Model:                           3                                         \n",
            "Covariance Type:            nonrobust                                         \n",
            "==============================================================================\n",
            "                 coef    std err          t      P>|t|      [0.025      0.975]\n",
            "------------------------------------------------------------------------------\n",
            "Intercept   1126.7697     51.495     21.881      0.000    1025.683    1227.856\n",
            "log_base    -169.7817      8.525    -19.915      0.000    -186.517    -153.046\n",
            "log_height    -5.7244      4.944     -1.158      0.247     -15.430       3.981\n",
            "log_weight    -2.3422      2.064     -1.135      0.257      -6.393       1.709\n",
            "==============================================================================\n",
            "Omnibus:                       25.215   Durbin-Watson:                   1.583\n",
            "Prob(Omnibus):                  0.000   Jarque-Bera (JB):               49.274\n",
            "Skew:                           0.184   Prob(JB):                     2.00e-11\n",
            "Kurtosis:                       4.174   Cond. No.                         193.\n",
            "==============================================================================\n",
            "\n",
            "Warnings:\n",
            "[1] Standard Errors assume that the covariance matrix of the errors is correctly specified.\n"
          ],
          "name": "stdout"
        }
      ]
    },
    {
      "cell_type": "code",
      "metadata": {
        "colab": {
          "base_uri": "https://localhost:8080/"
        },
        "id": "eGdyk3H2i5ra",
        "outputId": "739d9a2d-86f7-421a-fbbf-ae1a913b7e6f"
      },
      "source": [
        "model6 = ols('capture_rate ~ log_base' ,data = df).fit()\n",
        "print(model6.summary())"
      ],
      "execution_count": null,
      "outputs": [
        {
          "output_type": "stream",
          "text": [
            "                            OLS Regression Results                            \n",
            "==============================================================================\n",
            "Dep. Variable:           capture_rate   R-squared:                       0.520\n",
            "Model:                            OLS   Adj. R-squared:                  0.519\n",
            "Method:                 Least Squares   F-statistic:                     843.5\n",
            "Date:                Tue, 27 Apr 2021   Prob (F-statistic):          3.04e-126\n",
            "Time:                        18:13:10   Log-Likelihood:                -4202.0\n",
            "No. Observations:                 781   AIC:                             8408.\n",
            "Df Residuals:                     779   BIC:                             8417.\n",
            "Df Model:                           1                                         \n",
            "Covariance Type:            nonrobust                                         \n",
            "==============================================================================\n",
            "                 coef    std err          t      P>|t|      [0.025      0.975]\n",
            "------------------------------------------------------------------------------\n",
            "Intercept   1217.0285     38.576     31.549      0.000    1141.304    1292.753\n",
            "log_base    -185.8984      6.401    -29.043      0.000    -198.463    -173.334\n",
            "==============================================================================\n",
            "Omnibus:                       29.824   Durbin-Watson:                   1.592\n",
            "Prob(Omnibus):                  0.000   Jarque-Bera (JB):               59.685\n",
            "Skew:                           0.227   Prob(JB):                     1.10e-13\n",
            "Kurtosis:                       4.276   Cond. No.                         127.\n",
            "==============================================================================\n",
            "\n",
            "Warnings:\n",
            "[1] Standard Errors assume that the covariance matrix of the errors is correctly specified.\n"
          ],
          "name": "stdout"
        }
      ]
    },
    {
      "cell_type": "code",
      "metadata": {
        "id": "QGE8yN3FiPZ9"
      },
      "source": [
        ""
      ],
      "execution_count": null,
      "outputs": []
    }
  ]
}